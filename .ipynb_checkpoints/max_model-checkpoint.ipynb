{
 "cells": [
  {
   "cell_type": "code",
   "execution_count": 242,
   "metadata": {},
   "outputs": [],
   "source": [
    "import cmdstanpy\n",
    "import pandas as pd\n",
    "import numpy as np\n",
    "from cmdstanpy import cmdstan_path, CmdStanModel\n",
    "import random\n",
    "\n",
    "MODEL_PATH = 'max_model.stan'"
   ]
  },
  {
   "cell_type": "code",
   "execution_count": 107,
   "metadata": {},
   "outputs": [],
   "source": [
    "class NpEncoder(json.JSONEncoder):\n",
    "    def default(self, obj):\n",
    "        if isinstance(obj, np.integer):\n",
    "            return int(obj)\n",
    "        if isinstance(obj, np.floating):\n",
    "            return float(obj)\n",
    "        if isinstance(obj, np.ndarray):\n",
    "            return obj.tolist()\n",
    "        return super(NpEncoder, self).default(obj)"
   ]
  },
  {
   "cell_type": "code",
   "execution_count": 215,
   "metadata": {},
   "outputs": [
    {
     "data": {
      "text/html": [
       "<div>\n",
       "<style scoped>\n",
       "    .dataframe tbody tr th:only-of-type {\n",
       "        vertical-align: middle;\n",
       "    }\n",
       "\n",
       "    .dataframe tbody tr th {\n",
       "        vertical-align: top;\n",
       "    }\n",
       "\n",
       "    .dataframe thead th {\n",
       "        text-align: right;\n",
       "    }\n",
       "</style>\n",
       "<table border=\"1\" class=\"dataframe\">\n",
       "  <thead>\n",
       "    <tr style=\"text-align: right;\">\n",
       "      <th></th>\n",
       "      <th>Sensor.ID</th>\n",
       "      <th>AirTemp</th>\n",
       "      <th>Day</th>\n",
       "      <th>Hour</th>\n",
       "      <th>Latitude</th>\n",
       "      <th>Longitude</th>\n",
       "      <th>Year</th>\n",
       "      <th>Install.Type</th>\n",
       "      <th>Borough</th>\n",
       "      <th>ntacode</th>\n",
       "    </tr>\n",
       "  </thead>\n",
       "  <tbody>\n",
       "    <tr>\n",
       "      <th>0</th>\n",
       "      <td>Bk-BR_01</td>\n",
       "      <td>71.189000</td>\n",
       "      <td>06/15/2018</td>\n",
       "      <td>1</td>\n",
       "      <td>40.666205</td>\n",
       "      <td>-73.91691</td>\n",
       "      <td>2018</td>\n",
       "      <td>Street Tree</td>\n",
       "      <td>Brooklyn</td>\n",
       "      <td>BK81</td>\n",
       "    </tr>\n",
       "    <tr>\n",
       "      <th>1</th>\n",
       "      <td>Bk-BR_01</td>\n",
       "      <td>70.243333</td>\n",
       "      <td>06/15/2018</td>\n",
       "      <td>2</td>\n",
       "      <td>40.666205</td>\n",
       "      <td>-73.91691</td>\n",
       "      <td>2018</td>\n",
       "      <td>Street Tree</td>\n",
       "      <td>Brooklyn</td>\n",
       "      <td>BK81</td>\n",
       "    </tr>\n",
       "    <tr>\n",
       "      <th>2</th>\n",
       "      <td>Bk-BR_01</td>\n",
       "      <td>69.392667</td>\n",
       "      <td>06/15/2018</td>\n",
       "      <td>3</td>\n",
       "      <td>40.666205</td>\n",
       "      <td>-73.91691</td>\n",
       "      <td>2018</td>\n",
       "      <td>Street Tree</td>\n",
       "      <td>Brooklyn</td>\n",
       "      <td>BK81</td>\n",
       "    </tr>\n",
       "    <tr>\n",
       "      <th>3</th>\n",
       "      <td>Bk-BR_01</td>\n",
       "      <td>68.263167</td>\n",
       "      <td>06/15/2018</td>\n",
       "      <td>4</td>\n",
       "      <td>40.666205</td>\n",
       "      <td>-73.91691</td>\n",
       "      <td>2018</td>\n",
       "      <td>Street Tree</td>\n",
       "      <td>Brooklyn</td>\n",
       "      <td>BK81</td>\n",
       "    </tr>\n",
       "    <tr>\n",
       "      <th>4</th>\n",
       "      <td>Bk-BR_01</td>\n",
       "      <td>67.114000</td>\n",
       "      <td>06/15/2018</td>\n",
       "      <td>5</td>\n",
       "      <td>40.666205</td>\n",
       "      <td>-73.91691</td>\n",
       "      <td>2018</td>\n",
       "      <td>Street Tree</td>\n",
       "      <td>Brooklyn</td>\n",
       "      <td>BK81</td>\n",
       "    </tr>\n",
       "  </tbody>\n",
       "</table>\n",
       "</div>"
      ],
      "text/plain": [
       "  Sensor.ID    AirTemp         Day  Hour   Latitude  Longitude  Year  \\\n",
       "0  Bk-BR_01  71.189000  06/15/2018     1  40.666205  -73.91691  2018   \n",
       "1  Bk-BR_01  70.243333  06/15/2018     2  40.666205  -73.91691  2018   \n",
       "2  Bk-BR_01  69.392667  06/15/2018     3  40.666205  -73.91691  2018   \n",
       "3  Bk-BR_01  68.263167  06/15/2018     4  40.666205  -73.91691  2018   \n",
       "4  Bk-BR_01  67.114000  06/15/2018     5  40.666205  -73.91691  2018   \n",
       "\n",
       "  Install.Type   Borough ntacode  \n",
       "0  Street Tree  Brooklyn    BK81  \n",
       "1  Street Tree  Brooklyn    BK81  \n",
       "2  Street Tree  Brooklyn    BK81  \n",
       "3  Street Tree  Brooklyn    BK81  \n",
       "4  Street Tree  Brooklyn    BK81  "
      ]
     },
     "execution_count": 215,
     "metadata": {},
     "output_type": "execute_result"
    }
   ],
   "source": [
    "temps = pd.read_csv('data/Hyperlocal_Temperature_Monitoring.csv')\n",
    "temps.head()"
   ]
  },
  {
   "cell_type": "code",
   "execution_count": 140,
   "metadata": {},
   "outputs": [],
   "source": [
    "covariates = pd.read_csv('data/temp3.csv').round(8)"
   ]
  },
  {
   "cell_type": "code",
   "execution_count": 141,
   "metadata": {},
   "outputs": [],
   "source": [
    "covariates2 = pd.read_csv('data/temp_1.csv').round(8)\n",
    "covariates = covariates.merge(covariates2)"
   ]
  },
  {
   "cell_type": "code",
   "execution_count": 195,
   "metadata": {},
   "outputs": [],
   "source": [
    "covariates['mean_fa_ratio'] = covariates['mean_fa_ratio'].fillna(0)"
   ]
  },
  {
   "cell_type": "code",
   "execution_count": 216,
   "metadata": {},
   "outputs": [],
   "source": [
    "temps = temps.drop(index=np.where(temps['AirTemp'].isna())[0]).reset_index(0)"
   ]
  },
  {
   "cell_type": "code",
   "execution_count": 221,
   "metadata": {},
   "outputs": [],
   "source": [
    "temps = temps.groupby(['Latitude','Longitude','Day','Year']).agg({'AirTemp':np.max}).reset_index(0).reset_index(0).reset_index(0).reset_index(0)"
   ]
  },
  {
   "cell_type": "code",
   "execution_count": 254,
   "metadata": {},
   "outputs": [],
   "source": [
    "test = temps.merge(covariates, how='outer', on=['Latitude','Longitude'])"
   ]
  },
  {
   "cell_type": "code",
   "execution_count": 255,
   "metadata": {},
   "outputs": [],
   "source": [
    "j= test.to_json(orient='columns')"
   ]
  },
  {
   "cell_type": "code",
   "execution_count": 256,
   "metadata": {},
   "outputs": [],
   "source": [
    "import json"
   ]
  },
  {
   "cell_type": "code",
   "execution_count": 375,
   "metadata": {},
   "outputs": [],
   "source": [
    "idx = list(range(test.shape[0]))\n",
    "val = set(random.sample(idx,int(test.shape[0] * .1)))\n",
    "train = set(idx) - val"
   ]
  },
  {
   "cell_type": "code",
   "execution_count": 379,
   "metadata": {},
   "outputs": [],
   "source": [
    "d = {'N': len(test), 'N_test': len(val)}\n",
    "\n",
    "for col in test.columns:\n",
    "    if col not in ['Day','Year','Latitude','Longitude','AirTemp']:\n",
    "        d[col] = test[col].values\n",
    "\n",
    "d['y'] = test['AirTemp'].values"
   ]
  },
  {
   "cell_type": "code",
   "execution_count": 380,
   "metadata": {},
   "outputs": [
    {
     "data": {
      "text/plain": [
       "dict_keys(['N', 'N_test', 'num_build500', 'mean_fa_ratio', 'min_distance_park', 'num_trees_50m', 'y'])"
      ]
     },
     "execution_count": 380,
     "metadata": {},
     "output_type": "execute_result"
    }
   ],
   "source": [
    "d.keys()"
   ]
  },
  {
   "cell_type": "code",
   "execution_count": 381,
   "metadata": {},
   "outputs": [],
   "source": [
    "r = json.dumps(d,cls=NpEncoder)"
   ]
  },
  {
   "cell_type": "code",
   "execution_count": 382,
   "metadata": {},
   "outputs": [],
   "source": [
    "with open('data/data.json', 'w') as f:\n",
    "    json.dump(json.loads(r), f)"
   ]
  },
  {
   "cell_type": "code",
   "execution_count": 366,
   "metadata": {},
   "outputs": [],
   "source": [
    "DATA = 'data/data.json'"
   ]
  },
  {
   "cell_type": "code",
   "execution_count": 383,
   "metadata": {},
   "outputs": [
    {
     "name": "stderr",
     "output_type": "stream",
     "text": [
      "INFO:cmdstanpy:found newer exe file, not recompiling\n",
      "INFO:cmdstanpy:compiled model file: /Users/sotiriskaragounis/git/UHInyc/max_model\n"
     ]
    }
   ],
   "source": [
    "model = CmdStanModel(stan_file=MODEL_PATH)"
   ]
  },
  {
   "cell_type": "code",
   "execution_count": 384,
   "metadata": {},
   "outputs": [
    {
     "name": "stderr",
     "output_type": "stream",
     "text": [
      "INFO:cmdstanpy:start chain 1\n",
      "INFO:cmdstanpy:finish chain 1\n",
      "ERROR:cmdstanpy:Chain 1 processing error, non-zero return code 1\n",
      " error message:\n",
      "\tstan::variational::normal_meanfield::calc_grad: The number of dropped evaluations has reached its maximum amount (10). Your model may be either severely ill-conditioned or misspecified.\n",
      "\n"
     ]
    },
    {
     "ename": "RuntimeError",
     "evalue": "Error during variational inference:\nchain_id 1:\nstan::variational::normal_meanfield::calc_grad: The number of dropped evaluations has reached its maximum amount (10). Your model may be either severely ill-conditioned or misspecified.\n\nCommand and output files:\nRunSet: chains=1\n cmd:\n\t['/Users/sotiriskaragounis/git/UHInyc/max_model', 'random', 'seed=88542', 'data', 'file=/var/folders/95/hjbq_fhx1x94_j9lsth52q0m0000gn/T/tmp8g2ikmuq/67snvlnc.json', 'output', 'file=/var/folders/95/hjbq_fhx1x94_j9lsth52q0m0000gn/T/tmp8g2ikmuq/max_model-202111122030-1-ln595ww9.csv', 'method=variational', 'adapt', 'engaged=1']\n retcodes=[1]\n csv_files:\n\t/var/folders/95/hjbq_fhx1x94_j9lsth52q0m0000gn/T/tmp8g2ikmuq/max_model-202111122030-1-ln595ww9.csv\n console_msgs:\n\t/var/folders/95/hjbq_fhx1x94_j9lsth52q0m0000gn/T/tmp8g2ikmuq/max_model-202111122030-1-ln595ww9-stdout.txt\n error_msgs:\n\t/var/folders/95/hjbq_fhx1x94_j9lsth52q0m0000gn/T/tmp8g2ikmuq/max_model-202111122030-1-ln595ww9-stderr.txt",
     "output_type": "error",
     "traceback": [
      "\u001b[0;31m---------------------------------------------------------------------------\u001b[0m",
      "\u001b[0;31mRuntimeError\u001b[0m                              Traceback (most recent call last)",
      "\u001b[0;32m/var/folders/95/hjbq_fhx1x94_j9lsth52q0m0000gn/T/ipykernel_81017/1263546370.py\u001b[0m in \u001b[0;36m<module>\u001b[0;34m\u001b[0m\n\u001b[0;32m----> 1\u001b[0;31m \u001b[0mbern_vb\u001b[0m \u001b[0;34m=\u001b[0m \u001b[0mmodel\u001b[0m\u001b[0;34m.\u001b[0m\u001b[0mvariational\u001b[0m\u001b[0;34m(\u001b[0m\u001b[0mdata\u001b[0m\u001b[0;34m=\u001b[0m\u001b[0md\u001b[0m\u001b[0;34m,\u001b[0m\u001b[0mrequire_converged\u001b[0m\u001b[0;34m=\u001b[0m\u001b[0;32mFalse\u001b[0m\u001b[0;34m)\u001b[0m\u001b[0;34m\u001b[0m\u001b[0;34m\u001b[0m\u001b[0m\n\u001b[0m",
      "\u001b[0;32m~/opt/anaconda3/envs/cmdstan/lib/python3.9/site-packages/cmdstanpy/model.py\u001b[0m in \u001b[0;36mvariational\u001b[0;34m(self, data, seed, inits, output_dir, sig_figs, save_diagnostics, save_profile, algorithm, iter, grad_samples, elbo_samples, eta, adapt_engaged, adapt_iter, tol_rel_obj, eval_elbo, output_samples, require_converged, refresh)\u001b[0m\n\u001b[1;32m   1184\u001b[0m                 \u001b[0mmsg\u001b[0m\u001b[0;34m,\u001b[0m \u001b[0mrunset\u001b[0m\u001b[0;34m.\u001b[0m\u001b[0m__repr__\u001b[0m\u001b[0;34m(\u001b[0m\u001b[0;34m)\u001b[0m\u001b[0;34m\u001b[0m\u001b[0;34m\u001b[0m\u001b[0m\n\u001b[1;32m   1185\u001b[0m             )\n\u001b[0;32m-> 1186\u001b[0;31m             \u001b[0;32mraise\u001b[0m \u001b[0mRuntimeError\u001b[0m\u001b[0;34m(\u001b[0m\u001b[0mmsg\u001b[0m\u001b[0;34m)\u001b[0m\u001b[0;34m\u001b[0m\u001b[0;34m\u001b[0m\u001b[0m\n\u001b[0m\u001b[1;32m   1187\u001b[0m         \u001b[0;31m# pylint: disable=invalid-name\u001b[0m\u001b[0;34m\u001b[0m\u001b[0;34m\u001b[0m\u001b[0m\n\u001b[1;32m   1188\u001b[0m         \u001b[0mvb\u001b[0m \u001b[0;34m=\u001b[0m \u001b[0mCmdStanVB\u001b[0m\u001b[0;34m(\u001b[0m\u001b[0mrunset\u001b[0m\u001b[0;34m)\u001b[0m\u001b[0;34m\u001b[0m\u001b[0;34m\u001b[0m\u001b[0m\n",
      "\u001b[0;31mRuntimeError\u001b[0m: Error during variational inference:\nchain_id 1:\nstan::variational::normal_meanfield::calc_grad: The number of dropped evaluations has reached its maximum amount (10). Your model may be either severely ill-conditioned or misspecified.\n\nCommand and output files:\nRunSet: chains=1\n cmd:\n\t['/Users/sotiriskaragounis/git/UHInyc/max_model', 'random', 'seed=88542', 'data', 'file=/var/folders/95/hjbq_fhx1x94_j9lsth52q0m0000gn/T/tmp8g2ikmuq/67snvlnc.json', 'output', 'file=/var/folders/95/hjbq_fhx1x94_j9lsth52q0m0000gn/T/tmp8g2ikmuq/max_model-202111122030-1-ln595ww9.csv', 'method=variational', 'adapt', 'engaged=1']\n retcodes=[1]\n csv_files:\n\t/var/folders/95/hjbq_fhx1x94_j9lsth52q0m0000gn/T/tmp8g2ikmuq/max_model-202111122030-1-ln595ww9.csv\n console_msgs:\n\t/var/folders/95/hjbq_fhx1x94_j9lsth52q0m0000gn/T/tmp8g2ikmuq/max_model-202111122030-1-ln595ww9-stdout.txt\n error_msgs:\n\t/var/folders/95/hjbq_fhx1x94_j9lsth52q0m0000gn/T/tmp8g2ikmuq/max_model-202111122030-1-ln595ww9-stderr.txt"
     ]
    }
   ],
   "source": [
    "bern_vb = model.variational(data=d,require_converged=False)"
   ]
  },
  {
   "cell_type": "code",
   "execution_count": 327,
   "metadata": {},
   "outputs": [
    {
     "data": {
      "text/plain": [
       "OrderedDict([('lp__', 0.0),\n",
       "             ('log_p__', 0.0),\n",
       "             ('log_g__', 0.0),\n",
       "             ('a', -85.3159),\n",
       "             ('b', -86.2057),\n",
       "             ('c', -85.6529),\n",
       "             ('d', -87.2599),\n",
       "             ('bias', -85.0807),\n",
       "             ('sigma', 1.31577e+58)])"
      ]
     },
     "execution_count": 327,
     "metadata": {},
     "output_type": "execute_result"
    }
   ],
   "source": [
    "bern_vb.variational_params_dict"
   ]
  },
  {
   "cell_type": "code",
   "execution_count": null,
   "metadata": {},
   "outputs": [],
   "source": [
    "mle = model.optimize(data=DATA)"
   ]
  },
  {
   "cell_type": "code",
   "execution_count": null,
   "metadata": {},
   "outputs": [],
   "source": []
  },
  {
   "cell_type": "code",
   "execution_count": null,
   "metadata": {},
   "outputs": [],
   "source": []
  }
 ],
 "metadata": {
  "kernelspec": {
   "display_name": "stan",
   "language": "python",
   "name": "stan"
  },
  "language_info": {
   "codemirror_mode": {
    "name": "ipython",
    "version": 3
   },
   "file_extension": ".py",
   "mimetype": "text/x-python",
   "name": "python",
   "nbconvert_exporter": "python",
   "pygments_lexer": "ipython3",
   "version": "3.9.7"
  }
 },
 "nbformat": 4,
 "nbformat_minor": 4
}
