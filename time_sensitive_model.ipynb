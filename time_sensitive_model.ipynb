{
 "cells": [
  {
   "cell_type": "code",
   "execution_count": 395,
   "metadata": {},
   "outputs": [],
   "source": [
    "import cmdstanpy\n",
    "import pandas as pd\n",
    "import numpy as np\n",
    "from cmdstanpy import cmdstan_path, CmdStanModel\n",
    "import random\n",
    "from tqdm import tqdm\n",
    "import matplotlib.pyplot as plt\n",
    "import seaborn as sns\n",
    "import json\n",
    "import scipy.stats as stats\n",
    "import patsy\n",
    "\n",
    "MODEL_PATH = 'time_model_2.stan'\n",
    "\n",
    "sns.set_style(\"darkgrid\", {\"axes.facecolor\": \".9\"})"
   ]
  },
  {
   "cell_type": "code",
   "execution_count": 17,
   "metadata": {},
   "outputs": [
    {
     "data": {
      "text/html": [
       "<div>\n",
       "<style scoped>\n",
       "    .dataframe tbody tr th:only-of-type {\n",
       "        vertical-align: middle;\n",
       "    }\n",
       "\n",
       "    .dataframe tbody tr th {\n",
       "        vertical-align: top;\n",
       "    }\n",
       "\n",
       "    .dataframe thead th {\n",
       "        text-align: right;\n",
       "    }\n",
       "</style>\n",
       "<table border=\"1\" class=\"dataframe\">\n",
       "  <thead>\n",
       "    <tr style=\"text-align: right;\">\n",
       "      <th></th>\n",
       "      <th>Sensor.ID</th>\n",
       "      <th>AirTemp</th>\n",
       "      <th>Day</th>\n",
       "      <th>Hour</th>\n",
       "      <th>Latitude</th>\n",
       "      <th>Longitude</th>\n",
       "      <th>Year</th>\n",
       "      <th>Install.Type</th>\n",
       "      <th>Borough</th>\n",
       "      <th>ntacode</th>\n",
       "    </tr>\n",
       "  </thead>\n",
       "  <tbody>\n",
       "    <tr>\n",
       "      <th>0</th>\n",
       "      <td>Bk-BR_01</td>\n",
       "      <td>71.189000</td>\n",
       "      <td>06/15/2018</td>\n",
       "      <td>1</td>\n",
       "      <td>40.666205</td>\n",
       "      <td>-73.91691</td>\n",
       "      <td>2018</td>\n",
       "      <td>Street Tree</td>\n",
       "      <td>Brooklyn</td>\n",
       "      <td>BK81</td>\n",
       "    </tr>\n",
       "    <tr>\n",
       "      <th>1</th>\n",
       "      <td>Bk-BR_01</td>\n",
       "      <td>70.243333</td>\n",
       "      <td>06/15/2018</td>\n",
       "      <td>2</td>\n",
       "      <td>40.666205</td>\n",
       "      <td>-73.91691</td>\n",
       "      <td>2018</td>\n",
       "      <td>Street Tree</td>\n",
       "      <td>Brooklyn</td>\n",
       "      <td>BK81</td>\n",
       "    </tr>\n",
       "    <tr>\n",
       "      <th>2</th>\n",
       "      <td>Bk-BR_01</td>\n",
       "      <td>69.392667</td>\n",
       "      <td>06/15/2018</td>\n",
       "      <td>3</td>\n",
       "      <td>40.666205</td>\n",
       "      <td>-73.91691</td>\n",
       "      <td>2018</td>\n",
       "      <td>Street Tree</td>\n",
       "      <td>Brooklyn</td>\n",
       "      <td>BK81</td>\n",
       "    </tr>\n",
       "    <tr>\n",
       "      <th>3</th>\n",
       "      <td>Bk-BR_01</td>\n",
       "      <td>68.263167</td>\n",
       "      <td>06/15/2018</td>\n",
       "      <td>4</td>\n",
       "      <td>40.666205</td>\n",
       "      <td>-73.91691</td>\n",
       "      <td>2018</td>\n",
       "      <td>Street Tree</td>\n",
       "      <td>Brooklyn</td>\n",
       "      <td>BK81</td>\n",
       "    </tr>\n",
       "    <tr>\n",
       "      <th>4</th>\n",
       "      <td>Bk-BR_01</td>\n",
       "      <td>67.114000</td>\n",
       "      <td>06/15/2018</td>\n",
       "      <td>5</td>\n",
       "      <td>40.666205</td>\n",
       "      <td>-73.91691</td>\n",
       "      <td>2018</td>\n",
       "      <td>Street Tree</td>\n",
       "      <td>Brooklyn</td>\n",
       "      <td>BK81</td>\n",
       "    </tr>\n",
       "  </tbody>\n",
       "</table>\n",
       "</div>"
      ],
      "text/plain": [
       "  Sensor.ID    AirTemp         Day  Hour   Latitude  Longitude  Year  \\\n",
       "0  Bk-BR_01  71.189000  06/15/2018     1  40.666205  -73.91691  2018   \n",
       "1  Bk-BR_01  70.243333  06/15/2018     2  40.666205  -73.91691  2018   \n",
       "2  Bk-BR_01  69.392667  06/15/2018     3  40.666205  -73.91691  2018   \n",
       "3  Bk-BR_01  68.263167  06/15/2018     4  40.666205  -73.91691  2018   \n",
       "4  Bk-BR_01  67.114000  06/15/2018     5  40.666205  -73.91691  2018   \n",
       "\n",
       "  Install.Type   Borough ntacode  \n",
       "0  Street Tree  Brooklyn    BK81  \n",
       "1  Street Tree  Brooklyn    BK81  \n",
       "2  Street Tree  Brooklyn    BK81  \n",
       "3  Street Tree  Brooklyn    BK81  \n",
       "4  Street Tree  Brooklyn    BK81  "
      ]
     },
     "execution_count": 17,
     "metadata": {},
     "output_type": "execute_result"
    }
   ],
   "source": [
    "temps = pd.read_csv('data/Hyperlocal_Temperature_Monitoring.csv')\n",
    "temps.head()"
   ]
  },
  {
   "cell_type": "code",
   "execution_count": 537,
   "metadata": {},
   "outputs": [],
   "source": [
    "covariates = pd.read_csv('data/temp3.csv').round(8)\n",
    "covariates2 = pd.read_csv('data/temp_1.csv').round(8)\n",
    "covariates = covariates.merge(covariates2)\n",
    "covariates['mean_fa_ratio'] = covariates['mean_fa_ratio'].fillna(0)\n",
    "temps = temps.drop(index=np.where(temps['AirTemp'].isna())[0])\n",
    "data = temps.merge(covariates, how='outer', on=['Latitude','Longitude'])"
   ]
  },
  {
   "cell_type": "code",
   "execution_count": 538,
   "metadata": {},
   "outputs": [
    {
     "data": {
      "text/html": [
       "<div>\n",
       "<style scoped>\n",
       "    .dataframe tbody tr th:only-of-type {\n",
       "        vertical-align: middle;\n",
       "    }\n",
       "\n",
       "    .dataframe tbody tr th {\n",
       "        vertical-align: top;\n",
       "    }\n",
       "\n",
       "    .dataframe thead th {\n",
       "        text-align: right;\n",
       "    }\n",
       "</style>\n",
       "<table border=\"1\" class=\"dataframe\">\n",
       "  <thead>\n",
       "    <tr style=\"text-align: right;\">\n",
       "      <th></th>\n",
       "      <th>Sensor.ID</th>\n",
       "      <th>AirTemp</th>\n",
       "      <th>Day</th>\n",
       "      <th>Hour</th>\n",
       "      <th>Latitude</th>\n",
       "      <th>Longitude</th>\n",
       "      <th>Year</th>\n",
       "      <th>Install.Type</th>\n",
       "      <th>Borough</th>\n",
       "      <th>ntacode</th>\n",
       "      <th>num_build500</th>\n",
       "      <th>mean_fa_ratio</th>\n",
       "      <th>min_distance_park</th>\n",
       "      <th>num_trees_50m</th>\n",
       "    </tr>\n",
       "  </thead>\n",
       "  <tbody>\n",
       "    <tr>\n",
       "      <th>0</th>\n",
       "      <td>Bk-BR_01</td>\n",
       "      <td>71.189000</td>\n",
       "      <td>06/15/2018</td>\n",
       "      <td>1</td>\n",
       "      <td>40.666205</td>\n",
       "      <td>-73.91691</td>\n",
       "      <td>2018</td>\n",
       "      <td>Street Tree</td>\n",
       "      <td>Brooklyn</td>\n",
       "      <td>BK81</td>\n",
       "      <td>30</td>\n",
       "      <td>1.430347</td>\n",
       "      <td>638.624047</td>\n",
       "      <td>2</td>\n",
       "    </tr>\n",
       "    <tr>\n",
       "      <th>1</th>\n",
       "      <td>Bk-BR_01</td>\n",
       "      <td>70.243333</td>\n",
       "      <td>06/15/2018</td>\n",
       "      <td>2</td>\n",
       "      <td>40.666205</td>\n",
       "      <td>-73.91691</td>\n",
       "      <td>2018</td>\n",
       "      <td>Street Tree</td>\n",
       "      <td>Brooklyn</td>\n",
       "      <td>BK81</td>\n",
       "      <td>30</td>\n",
       "      <td>1.430347</td>\n",
       "      <td>638.624047</td>\n",
       "      <td>2</td>\n",
       "    </tr>\n",
       "    <tr>\n",
       "      <th>2</th>\n",
       "      <td>Bk-BR_01</td>\n",
       "      <td>69.392667</td>\n",
       "      <td>06/15/2018</td>\n",
       "      <td>3</td>\n",
       "      <td>40.666205</td>\n",
       "      <td>-73.91691</td>\n",
       "      <td>2018</td>\n",
       "      <td>Street Tree</td>\n",
       "      <td>Brooklyn</td>\n",
       "      <td>BK81</td>\n",
       "      <td>30</td>\n",
       "      <td>1.430347</td>\n",
       "      <td>638.624047</td>\n",
       "      <td>2</td>\n",
       "    </tr>\n",
       "    <tr>\n",
       "      <th>3</th>\n",
       "      <td>Bk-BR_01</td>\n",
       "      <td>68.263167</td>\n",
       "      <td>06/15/2018</td>\n",
       "      <td>4</td>\n",
       "      <td>40.666205</td>\n",
       "      <td>-73.91691</td>\n",
       "      <td>2018</td>\n",
       "      <td>Street Tree</td>\n",
       "      <td>Brooklyn</td>\n",
       "      <td>BK81</td>\n",
       "      <td>30</td>\n",
       "      <td>1.430347</td>\n",
       "      <td>638.624047</td>\n",
       "      <td>2</td>\n",
       "    </tr>\n",
       "    <tr>\n",
       "      <th>4</th>\n",
       "      <td>Bk-BR_01</td>\n",
       "      <td>67.114000</td>\n",
       "      <td>06/15/2018</td>\n",
       "      <td>5</td>\n",
       "      <td>40.666205</td>\n",
       "      <td>-73.91691</td>\n",
       "      <td>2018</td>\n",
       "      <td>Street Tree</td>\n",
       "      <td>Brooklyn</td>\n",
       "      <td>BK81</td>\n",
       "      <td>30</td>\n",
       "      <td>1.430347</td>\n",
       "      <td>638.624047</td>\n",
       "      <td>2</td>\n",
       "    </tr>\n",
       "    <tr>\n",
       "      <th>...</th>\n",
       "      <td>...</td>\n",
       "      <td>...</td>\n",
       "      <td>...</td>\n",
       "      <td>...</td>\n",
       "      <td>...</td>\n",
       "      <td>...</td>\n",
       "      <td>...</td>\n",
       "      <td>...</td>\n",
       "      <td>...</td>\n",
       "      <td>...</td>\n",
       "      <td>...</td>\n",
       "      <td>...</td>\n",
       "      <td>...</td>\n",
       "      <td>...</td>\n",
       "    </tr>\n",
       "    <tr>\n",
       "      <th>2085438</th>\n",
       "      <td>Q-CH_26</td>\n",
       "      <td>78.346667</td>\n",
       "      <td>09/07/2019</td>\n",
       "      <td>15</td>\n",
       "      <td>40.699578</td>\n",
       "      <td>-73.73876</td>\n",
       "      <td>2019</td>\n",
       "      <td>Light Pole</td>\n",
       "      <td>Queens</td>\n",
       "      <td>QN33</td>\n",
       "      <td>28</td>\n",
       "      <td>1.319975</td>\n",
       "      <td>1255.416584</td>\n",
       "      <td>0</td>\n",
       "    </tr>\n",
       "    <tr>\n",
       "      <th>2085439</th>\n",
       "      <td>Q-CH_26</td>\n",
       "      <td>79.517167</td>\n",
       "      <td>09/07/2019</td>\n",
       "      <td>16</td>\n",
       "      <td>40.699578</td>\n",
       "      <td>-73.73876</td>\n",
       "      <td>2019</td>\n",
       "      <td>Light Pole</td>\n",
       "      <td>Queens</td>\n",
       "      <td>QN33</td>\n",
       "      <td>28</td>\n",
       "      <td>1.319975</td>\n",
       "      <td>1255.416584</td>\n",
       "      <td>0</td>\n",
       "    </tr>\n",
       "    <tr>\n",
       "      <th>2085440</th>\n",
       "      <td>Q-CH_26</td>\n",
       "      <td>77.203667</td>\n",
       "      <td>09/07/2019</td>\n",
       "      <td>17</td>\n",
       "      <td>40.699578</td>\n",
       "      <td>-73.73876</td>\n",
       "      <td>2019</td>\n",
       "      <td>Light Pole</td>\n",
       "      <td>Queens</td>\n",
       "      <td>QN33</td>\n",
       "      <td>28</td>\n",
       "      <td>1.319975</td>\n",
       "      <td>1255.416584</td>\n",
       "      <td>0</td>\n",
       "    </tr>\n",
       "    <tr>\n",
       "      <th>2085441</th>\n",
       "      <td>Q-CH_26</td>\n",
       "      <td>75.696000</td>\n",
       "      <td>09/07/2019</td>\n",
       "      <td>18</td>\n",
       "      <td>40.699578</td>\n",
       "      <td>-73.73876</td>\n",
       "      <td>2019</td>\n",
       "      <td>Light Pole</td>\n",
       "      <td>Queens</td>\n",
       "      <td>QN33</td>\n",
       "      <td>28</td>\n",
       "      <td>1.319975</td>\n",
       "      <td>1255.416584</td>\n",
       "      <td>0</td>\n",
       "    </tr>\n",
       "    <tr>\n",
       "      <th>2085442</th>\n",
       "      <td>Q-CH_26</td>\n",
       "      <td>72.359000</td>\n",
       "      <td>09/07/2019</td>\n",
       "      <td>19</td>\n",
       "      <td>40.699578</td>\n",
       "      <td>-73.73876</td>\n",
       "      <td>2019</td>\n",
       "      <td>Light Pole</td>\n",
       "      <td>Queens</td>\n",
       "      <td>QN33</td>\n",
       "      <td>28</td>\n",
       "      <td>1.319975</td>\n",
       "      <td>1255.416584</td>\n",
       "      <td>0</td>\n",
       "    </tr>\n",
       "  </tbody>\n",
       "</table>\n",
       "<p>2085443 rows × 14 columns</p>\n",
       "</div>"
      ],
      "text/plain": [
       "        Sensor.ID    AirTemp         Day  Hour   Latitude  Longitude  Year  \\\n",
       "0        Bk-BR_01  71.189000  06/15/2018     1  40.666205  -73.91691  2018   \n",
       "1        Bk-BR_01  70.243333  06/15/2018     2  40.666205  -73.91691  2018   \n",
       "2        Bk-BR_01  69.392667  06/15/2018     3  40.666205  -73.91691  2018   \n",
       "3        Bk-BR_01  68.263167  06/15/2018     4  40.666205  -73.91691  2018   \n",
       "4        Bk-BR_01  67.114000  06/15/2018     5  40.666205  -73.91691  2018   \n",
       "...           ...        ...         ...   ...        ...        ...   ...   \n",
       "2085438   Q-CH_26  78.346667  09/07/2019    15  40.699578  -73.73876  2019   \n",
       "2085439   Q-CH_26  79.517167  09/07/2019    16  40.699578  -73.73876  2019   \n",
       "2085440   Q-CH_26  77.203667  09/07/2019    17  40.699578  -73.73876  2019   \n",
       "2085441   Q-CH_26  75.696000  09/07/2019    18  40.699578  -73.73876  2019   \n",
       "2085442   Q-CH_26  72.359000  09/07/2019    19  40.699578  -73.73876  2019   \n",
       "\n",
       "        Install.Type   Borough ntacode  num_build500  mean_fa_ratio  \\\n",
       "0        Street Tree  Brooklyn    BK81            30       1.430347   \n",
       "1        Street Tree  Brooklyn    BK81            30       1.430347   \n",
       "2        Street Tree  Brooklyn    BK81            30       1.430347   \n",
       "3        Street Tree  Brooklyn    BK81            30       1.430347   \n",
       "4        Street Tree  Brooklyn    BK81            30       1.430347   \n",
       "...              ...       ...     ...           ...            ...   \n",
       "2085438   Light Pole    Queens    QN33            28       1.319975   \n",
       "2085439   Light Pole    Queens    QN33            28       1.319975   \n",
       "2085440   Light Pole    Queens    QN33            28       1.319975   \n",
       "2085441   Light Pole    Queens    QN33            28       1.319975   \n",
       "2085442   Light Pole    Queens    QN33            28       1.319975   \n",
       "\n",
       "         min_distance_park  num_trees_50m  \n",
       "0               638.624047              2  \n",
       "1               638.624047              2  \n",
       "2               638.624047              2  \n",
       "3               638.624047              2  \n",
       "4               638.624047              2  \n",
       "...                    ...            ...  \n",
       "2085438        1255.416584              0  \n",
       "2085439        1255.416584              0  \n",
       "2085440        1255.416584              0  \n",
       "2085441        1255.416584              0  \n",
       "2085442        1255.416584              0  \n",
       "\n",
       "[2085443 rows x 14 columns]"
      ]
     },
     "execution_count": 538,
     "metadata": {},
     "output_type": "execute_result"
    }
   ],
   "source": [
    "data"
   ]
  },
  {
   "cell_type": "code",
   "execution_count": 539,
   "metadata": {},
   "outputs": [],
   "source": [
    "data['month'] = pd.to_datetime(data['Day']).dt.month"
   ]
  },
  {
   "cell_type": "code",
   "execution_count": 540,
   "metadata": {},
   "outputs": [],
   "source": [
    "data = pd.get_dummies(data,columns=['month'])"
   ]
  },
  {
   "cell_type": "code",
   "execution_count": 541,
   "metadata": {},
   "outputs": [],
   "source": [
    "g = data.groupby(['Sensor.ID','Day'])"
   ]
  },
  {
   "cell_type": "code",
   "execution_count": 601,
   "metadata": {},
   "outputs": [
    {
     "name": "stderr",
     "output_type": "stream",
     "text": [
      "100%|██████████████████████████████████████████████| 87029/87029 [02:03<00:00, 705.64it/s]\n"
     ]
    }
   ],
   "source": [
    "H = 24\n",
    "K = 4\n",
    "N = len(g.indices)\n",
    "\n",
    "y = []#np.zeros([N,H])\n",
    "X = []#np.zeros([N,K])\n",
    "# INVESTIGATE DATA\n",
    "i = 0\n",
    "\n",
    "for k,_ in tqdm(g.indices.items()):\n",
    "    sub_group = g.get_group(k)\n",
    "    if sub_group['AirTemp'].shape[0] == H:\n",
    "        y.append(sub_group['AirTemp'])\n",
    "        covariates = sub_group[['num_build500','mean_fa_ratio','min_distance_park','num_trees_50m','month_6','month_7','month_8', 'month_9','month_10']].iloc[0].values\n",
    "        X.append(covariates)\n",
    "\n",
    "y = np.array(y)\n",
    "X = np.array(X)"
   ]
  },
  {
   "cell_type": "code",
   "execution_count": 599,
   "metadata": {},
   "outputs": [
    {
     "name": "stderr",
     "output_type": "stream",
     "text": [
      "  0%|                                                   | 2/87029 [00:00<25:45, 56.31it/s]"
     ]
    },
    {
     "name": "stdout",
     "output_type": "stream",
     "text": [
      "[ 30.           1.43034721 638.62404674   2.        ]\n"
     ]
    },
    {
     "name": "stderr",
     "output_type": "stream",
     "text": [
      "\n"
     ]
    }
   ],
   "source": [
    "H = 24\n",
    "K = 4\n",
    "N = len(g.indices)\n",
    "\n",
    "y = []#np.zeros([N,H])\n",
    "X = []#np.zeros([N,K])\n",
    "# INVESTIGATE DATA\n",
    "i = 0\n",
    "g = data.groupby(['Sensor.ID'])\n",
    "for k,_ in tqdm(g.indices.items()):\n",
    "    sub_group = g.get_group(k)\n",
    "    for \n",
    "        \n",
    "    y.append(np.mean())\n",
    "    covariates = sub_group[['num_build500','mean_fa_ratio','min_distance_park','num_trees_50m']].iloc[0].values\n",
    "    print(covariates)\n",
    "    break\n",
    "#         X.append(covariates)\n",
    "\n",
    "# y = np.array(y)\n",
    "# X = np.array(X)"
   ]
  },
  {
   "cell_type": "code",
   "execution_count": 587,
   "metadata": {},
   "outputs": [
    {
     "data": {
      "text/html": [
       "<div>\n",
       "<style scoped>\n",
       "    .dataframe tbody tr th:only-of-type {\n",
       "        vertical-align: middle;\n",
       "    }\n",
       "\n",
       "    .dataframe tbody tr th {\n",
       "        vertical-align: top;\n",
       "    }\n",
       "\n",
       "    .dataframe thead th {\n",
       "        text-align: right;\n",
       "    }\n",
       "</style>\n",
       "<table border=\"1\" class=\"dataframe\">\n",
       "  <thead>\n",
       "    <tr style=\"text-align: right;\">\n",
       "      <th></th>\n",
       "      <th>Sensor.ID</th>\n",
       "      <th>AirTemp</th>\n",
       "      <th>Day</th>\n",
       "      <th>Hour</th>\n",
       "      <th>Latitude</th>\n",
       "      <th>Longitude</th>\n",
       "      <th>Year</th>\n",
       "      <th>Install.Type</th>\n",
       "      <th>Borough</th>\n",
       "      <th>ntacode</th>\n",
       "      <th>num_build500</th>\n",
       "      <th>mean_fa_ratio</th>\n",
       "      <th>min_distance_park</th>\n",
       "      <th>num_trees_50m</th>\n",
       "      <th>month_6</th>\n",
       "      <th>month_7</th>\n",
       "      <th>month_8</th>\n",
       "      <th>month_9</th>\n",
       "      <th>month_10</th>\n",
       "    </tr>\n",
       "  </thead>\n",
       "  <tbody>\n",
       "    <tr>\n",
       "      <th>0</th>\n",
       "      <td>Bk-BR_01</td>\n",
       "      <td>71.189000</td>\n",
       "      <td>06/15/2018</td>\n",
       "      <td>1</td>\n",
       "      <td>40.666205</td>\n",
       "      <td>-73.91691</td>\n",
       "      <td>2018</td>\n",
       "      <td>Street Tree</td>\n",
       "      <td>Brooklyn</td>\n",
       "      <td>BK81</td>\n",
       "      <td>30</td>\n",
       "      <td>1.430347</td>\n",
       "      <td>638.624047</td>\n",
       "      <td>2</td>\n",
       "      <td>1</td>\n",
       "      <td>0</td>\n",
       "      <td>0</td>\n",
       "      <td>0</td>\n",
       "      <td>0</td>\n",
       "    </tr>\n",
       "    <tr>\n",
       "      <th>1</th>\n",
       "      <td>Bk-BR_01</td>\n",
       "      <td>70.243333</td>\n",
       "      <td>06/15/2018</td>\n",
       "      <td>2</td>\n",
       "      <td>40.666205</td>\n",
       "      <td>-73.91691</td>\n",
       "      <td>2018</td>\n",
       "      <td>Street Tree</td>\n",
       "      <td>Brooklyn</td>\n",
       "      <td>BK81</td>\n",
       "      <td>30</td>\n",
       "      <td>1.430347</td>\n",
       "      <td>638.624047</td>\n",
       "      <td>2</td>\n",
       "      <td>1</td>\n",
       "      <td>0</td>\n",
       "      <td>0</td>\n",
       "      <td>0</td>\n",
       "      <td>0</td>\n",
       "    </tr>\n",
       "    <tr>\n",
       "      <th>2</th>\n",
       "      <td>Bk-BR_01</td>\n",
       "      <td>69.392667</td>\n",
       "      <td>06/15/2018</td>\n",
       "      <td>3</td>\n",
       "      <td>40.666205</td>\n",
       "      <td>-73.91691</td>\n",
       "      <td>2018</td>\n",
       "      <td>Street Tree</td>\n",
       "      <td>Brooklyn</td>\n",
       "      <td>BK81</td>\n",
       "      <td>30</td>\n",
       "      <td>1.430347</td>\n",
       "      <td>638.624047</td>\n",
       "      <td>2</td>\n",
       "      <td>1</td>\n",
       "      <td>0</td>\n",
       "      <td>0</td>\n",
       "      <td>0</td>\n",
       "      <td>0</td>\n",
       "    </tr>\n",
       "    <tr>\n",
       "      <th>3</th>\n",
       "      <td>Bk-BR_01</td>\n",
       "      <td>68.263167</td>\n",
       "      <td>06/15/2018</td>\n",
       "      <td>4</td>\n",
       "      <td>40.666205</td>\n",
       "      <td>-73.91691</td>\n",
       "      <td>2018</td>\n",
       "      <td>Street Tree</td>\n",
       "      <td>Brooklyn</td>\n",
       "      <td>BK81</td>\n",
       "      <td>30</td>\n",
       "      <td>1.430347</td>\n",
       "      <td>638.624047</td>\n",
       "      <td>2</td>\n",
       "      <td>1</td>\n",
       "      <td>0</td>\n",
       "      <td>0</td>\n",
       "      <td>0</td>\n",
       "      <td>0</td>\n",
       "    </tr>\n",
       "    <tr>\n",
       "      <th>4</th>\n",
       "      <td>Bk-BR_01</td>\n",
       "      <td>67.114000</td>\n",
       "      <td>06/15/2018</td>\n",
       "      <td>5</td>\n",
       "      <td>40.666205</td>\n",
       "      <td>-73.91691</td>\n",
       "      <td>2018</td>\n",
       "      <td>Street Tree</td>\n",
       "      <td>Brooklyn</td>\n",
       "      <td>BK81</td>\n",
       "      <td>30</td>\n",
       "      <td>1.430347</td>\n",
       "      <td>638.624047</td>\n",
       "      <td>2</td>\n",
       "      <td>1</td>\n",
       "      <td>0</td>\n",
       "      <td>0</td>\n",
       "      <td>0</td>\n",
       "      <td>0</td>\n",
       "    </tr>\n",
       "    <tr>\n",
       "      <th>...</th>\n",
       "      <td>...</td>\n",
       "      <td>...</td>\n",
       "      <td>...</td>\n",
       "      <td>...</td>\n",
       "      <td>...</td>\n",
       "      <td>...</td>\n",
       "      <td>...</td>\n",
       "      <td>...</td>\n",
       "      <td>...</td>\n",
       "      <td>...</td>\n",
       "      <td>...</td>\n",
       "      <td>...</td>\n",
       "      <td>...</td>\n",
       "      <td>...</td>\n",
       "      <td>...</td>\n",
       "      <td>...</td>\n",
       "      <td>...</td>\n",
       "      <td>...</td>\n",
       "      <td>...</td>\n",
       "    </tr>\n",
       "    <tr>\n",
       "      <th>2085438</th>\n",
       "      <td>Q-CH_26</td>\n",
       "      <td>78.346667</td>\n",
       "      <td>09/07/2019</td>\n",
       "      <td>15</td>\n",
       "      <td>40.699578</td>\n",
       "      <td>-73.73876</td>\n",
       "      <td>2019</td>\n",
       "      <td>Light Pole</td>\n",
       "      <td>Queens</td>\n",
       "      <td>QN33</td>\n",
       "      <td>28</td>\n",
       "      <td>1.319975</td>\n",
       "      <td>1255.416584</td>\n",
       "      <td>0</td>\n",
       "      <td>0</td>\n",
       "      <td>0</td>\n",
       "      <td>0</td>\n",
       "      <td>1</td>\n",
       "      <td>0</td>\n",
       "    </tr>\n",
       "    <tr>\n",
       "      <th>2085439</th>\n",
       "      <td>Q-CH_26</td>\n",
       "      <td>79.517167</td>\n",
       "      <td>09/07/2019</td>\n",
       "      <td>16</td>\n",
       "      <td>40.699578</td>\n",
       "      <td>-73.73876</td>\n",
       "      <td>2019</td>\n",
       "      <td>Light Pole</td>\n",
       "      <td>Queens</td>\n",
       "      <td>QN33</td>\n",
       "      <td>28</td>\n",
       "      <td>1.319975</td>\n",
       "      <td>1255.416584</td>\n",
       "      <td>0</td>\n",
       "      <td>0</td>\n",
       "      <td>0</td>\n",
       "      <td>0</td>\n",
       "      <td>1</td>\n",
       "      <td>0</td>\n",
       "    </tr>\n",
       "    <tr>\n",
       "      <th>2085440</th>\n",
       "      <td>Q-CH_26</td>\n",
       "      <td>77.203667</td>\n",
       "      <td>09/07/2019</td>\n",
       "      <td>17</td>\n",
       "      <td>40.699578</td>\n",
       "      <td>-73.73876</td>\n",
       "      <td>2019</td>\n",
       "      <td>Light Pole</td>\n",
       "      <td>Queens</td>\n",
       "      <td>QN33</td>\n",
       "      <td>28</td>\n",
       "      <td>1.319975</td>\n",
       "      <td>1255.416584</td>\n",
       "      <td>0</td>\n",
       "      <td>0</td>\n",
       "      <td>0</td>\n",
       "      <td>0</td>\n",
       "      <td>1</td>\n",
       "      <td>0</td>\n",
       "    </tr>\n",
       "    <tr>\n",
       "      <th>2085441</th>\n",
       "      <td>Q-CH_26</td>\n",
       "      <td>75.696000</td>\n",
       "      <td>09/07/2019</td>\n",
       "      <td>18</td>\n",
       "      <td>40.699578</td>\n",
       "      <td>-73.73876</td>\n",
       "      <td>2019</td>\n",
       "      <td>Light Pole</td>\n",
       "      <td>Queens</td>\n",
       "      <td>QN33</td>\n",
       "      <td>28</td>\n",
       "      <td>1.319975</td>\n",
       "      <td>1255.416584</td>\n",
       "      <td>0</td>\n",
       "      <td>0</td>\n",
       "      <td>0</td>\n",
       "      <td>0</td>\n",
       "      <td>1</td>\n",
       "      <td>0</td>\n",
       "    </tr>\n",
       "    <tr>\n",
       "      <th>2085442</th>\n",
       "      <td>Q-CH_26</td>\n",
       "      <td>72.359000</td>\n",
       "      <td>09/07/2019</td>\n",
       "      <td>19</td>\n",
       "      <td>40.699578</td>\n",
       "      <td>-73.73876</td>\n",
       "      <td>2019</td>\n",
       "      <td>Light Pole</td>\n",
       "      <td>Queens</td>\n",
       "      <td>QN33</td>\n",
       "      <td>28</td>\n",
       "      <td>1.319975</td>\n",
       "      <td>1255.416584</td>\n",
       "      <td>0</td>\n",
       "      <td>0</td>\n",
       "      <td>0</td>\n",
       "      <td>0</td>\n",
       "      <td>1</td>\n",
       "      <td>0</td>\n",
       "    </tr>\n",
       "  </tbody>\n",
       "</table>\n",
       "<p>2085443 rows × 19 columns</p>\n",
       "</div>"
      ],
      "text/plain": [
       "        Sensor.ID    AirTemp         Day  Hour   Latitude  Longitude  Year  \\\n",
       "0        Bk-BR_01  71.189000  06/15/2018     1  40.666205  -73.91691  2018   \n",
       "1        Bk-BR_01  70.243333  06/15/2018     2  40.666205  -73.91691  2018   \n",
       "2        Bk-BR_01  69.392667  06/15/2018     3  40.666205  -73.91691  2018   \n",
       "3        Bk-BR_01  68.263167  06/15/2018     4  40.666205  -73.91691  2018   \n",
       "4        Bk-BR_01  67.114000  06/15/2018     5  40.666205  -73.91691  2018   \n",
       "...           ...        ...         ...   ...        ...        ...   ...   \n",
       "2085438   Q-CH_26  78.346667  09/07/2019    15  40.699578  -73.73876  2019   \n",
       "2085439   Q-CH_26  79.517167  09/07/2019    16  40.699578  -73.73876  2019   \n",
       "2085440   Q-CH_26  77.203667  09/07/2019    17  40.699578  -73.73876  2019   \n",
       "2085441   Q-CH_26  75.696000  09/07/2019    18  40.699578  -73.73876  2019   \n",
       "2085442   Q-CH_26  72.359000  09/07/2019    19  40.699578  -73.73876  2019   \n",
       "\n",
       "        Install.Type   Borough ntacode  num_build500  mean_fa_ratio  \\\n",
       "0        Street Tree  Brooklyn    BK81            30       1.430347   \n",
       "1        Street Tree  Brooklyn    BK81            30       1.430347   \n",
       "2        Street Tree  Brooklyn    BK81            30       1.430347   \n",
       "3        Street Tree  Brooklyn    BK81            30       1.430347   \n",
       "4        Street Tree  Brooklyn    BK81            30       1.430347   \n",
       "...              ...       ...     ...           ...            ...   \n",
       "2085438   Light Pole    Queens    QN33            28       1.319975   \n",
       "2085439   Light Pole    Queens    QN33            28       1.319975   \n",
       "2085440   Light Pole    Queens    QN33            28       1.319975   \n",
       "2085441   Light Pole    Queens    QN33            28       1.319975   \n",
       "2085442   Light Pole    Queens    QN33            28       1.319975   \n",
       "\n",
       "         min_distance_park  num_trees_50m  month_6  month_7  month_8  month_9  \\\n",
       "0               638.624047              2        1        0        0        0   \n",
       "1               638.624047              2        1        0        0        0   \n",
       "2               638.624047              2        1        0        0        0   \n",
       "3               638.624047              2        1        0        0        0   \n",
       "4               638.624047              2        1        0        0        0   \n",
       "...                    ...            ...      ...      ...      ...      ...   \n",
       "2085438        1255.416584              0        0        0        0        1   \n",
       "2085439        1255.416584              0        0        0        0        1   \n",
       "2085440        1255.416584              0        0        0        0        1   \n",
       "2085441        1255.416584              0        0        0        0        1   \n",
       "2085442        1255.416584              0        0        0        0        1   \n",
       "\n",
       "         month_10  \n",
       "0               0  \n",
       "1               0  \n",
       "2               0  \n",
       "3               0  \n",
       "4               0  \n",
       "...           ...  \n",
       "2085438         0  \n",
       "2085439         0  \n",
       "2085440         0  \n",
       "2085441         0  \n",
       "2085442         0  \n",
       "\n",
       "[2085443 rows x 19 columns]"
      ]
     },
     "execution_count": 587,
     "metadata": {},
     "output_type": "execute_result"
    }
   ],
   "source": [
    "data"
   ]
  },
  {
   "cell_type": "code",
   "execution_count": 602,
   "metadata": {},
   "outputs": [
    {
     "data": {
      "text/plain": [
       "array([[3.00000000e+01, 1.43034721e+00, 6.38624047e+02, ...,\n",
       "        0.00000000e+00, 0.00000000e+00, 0.00000000e+00],\n",
       "       [3.00000000e+01, 1.43034721e+00, 6.38624047e+02, ...,\n",
       "        0.00000000e+00, 0.00000000e+00, 0.00000000e+00],\n",
       "       [3.00000000e+01, 1.43034721e+00, 6.38624047e+02, ...,\n",
       "        0.00000000e+00, 0.00000000e+00, 0.00000000e+00],\n",
       "       ...,\n",
       "       [8.00000000e+00, 8.67229740e-01, 2.91008311e+03, ...,\n",
       "        0.00000000e+00, 1.00000000e+00, 0.00000000e+00],\n",
       "       [8.00000000e+00, 8.67229740e-01, 2.91008311e+03, ...,\n",
       "        0.00000000e+00, 1.00000000e+00, 0.00000000e+00],\n",
       "       [8.00000000e+00, 8.67229740e-01, 2.91008311e+03, ...,\n",
       "        0.00000000e+00, 1.00000000e+00, 0.00000000e+00]])"
      ]
     },
     "execution_count": 602,
     "metadata": {},
     "output_type": "execute_result"
    }
   ],
   "source": [
    "X"
   ]
  },
  {
   "cell_type": "code",
   "execution_count": 594,
   "metadata": {},
   "outputs": [
    {
     "data": {
      "image/png": "[encoded data removed]",
      "text/plain": [
       "<Figure size 432x288 with 1 Axes>"
      ]
     },
     "metadata": {},
     "output_type": "display_data"
    }
   ],
   "source": [
    "l = random.sample(list(np.where(X[:,6])[0]),10)\n",
    "for i in l:\n",
    "    sns.lineplot(x=range(24),y=y[i,:])"
   ]
  },
  {
   "cell_type": "code",
   "execution_count": 592,
   "metadata": {},
   "outputs": [],
   "source": [
    "N = y.shape[0]\n",
    "X_new_size = 5000\n",
    "K = X.shape[1]\n",
    "# X_size = N - X_new_size\n",
    "X_size = 1\n",
    "shuff_idx = random.shuffle(list(range(N)))\n",
    "shuff_y, shuff_X = y[shuff_idx,:][0], X[shuff_idx,:][0]\n",
    "beta_mean = np.random.normal(size=X.shape[1])\n",
    "beta_sd = np.random.uniform(size=X.shape[1])"
   ]
  },
  {
   "cell_type": "code",
   "execution_count": 578,
   "metadata": {},
   "outputs": [],
   "source": [
    "d = {'N': N, 'M': X_size, 'H': H, 'K': K, 'X': shuff_X, 'y': shuff_y,'beta_mean': beta_mean,'beta_sd': beta_sd,'y_cov':shuff_y[:X_size,:].T}"
   ]
  },
  {
   "cell_type": "code",
   "execution_count": 579,
   "metadata": {},
   "outputs": [
    {
     "name": "stderr",
     "output_type": "stream",
     "text": [
      "INFO:cmdstanpy:found newer exe file, not recompiling\n",
      "INFO:cmdstanpy:compiled model file: /Users/sotiriskaragounis/git/UHInyc/time_model_2\n"
     ]
    }
   ],
   "source": [
    "model = CmdStanModel(stan_file=MODEL_PATH)"
   ]
  },
  {
   "cell_type": "code",
   "execution_count": 580,
   "metadata": {
    "tags": []
   },
   "outputs": [
    {
     "name": "stderr",
     "output_type": "stream",
     "text": [
      "INFO:cmdstanpy:start chain 1\n",
      "INFO:cmdstanpy:finish chain 1\n",
      "WARNING:cmdstanpy:The algorithm may not have converged.\n",
      "Proceeding because require_converged is set to False\n"
     ]
    }
   ],
   "source": [
    "bern_vb = model.variational(data=d,require_converged=False)"
   ]
  },
  {
   "cell_type": "markdown",
   "metadata": {},
   "source": [
    "## MCMC"
   ]
  },
  {
   "cell_type": "code",
   "execution_count": 581,
   "metadata": {},
   "outputs": [
    {
     "data": {
      "image/png": "[encoded data removed]",
      "text/plain": [
       "<Figure size 432x288 with 1 Axes>"
      ]
     },
     "metadata": {},
     "output_type": "display_data"
    }
   ],
   "source": [
    "b = bern_vb.stan_variable(var='beta')\n",
    "for i in range(4):\n",
    "    sns.lineplot(x=range(24),y=b[:,i])"
   ]
  },
  {
   "cell_type": "code",
   "execution_count": 582,
   "metadata": {
    "tags": []
   },
   "outputs": [],
   "source": [
    "y_sims = bern_vb.stan_variable(var='y_rep')\n",
    "b = bern_vb.stan_variable(var='beta')"
   ]
  },
  {
   "cell_type": "code",
   "execution_count": 585,
   "metadata": {},
   "outputs": [
    {
     "data": {
      "text/plain": [
       "<AxesSubplot:>"
      ]
     },
     "execution_count": 585,
     "metadata": {},
     "output_type": "execute_result"
    },
    {
     "data": {
      "image/png": "[encoded data removed]",
      "text/plain": [
       "<Figure size 432x288 with 1 Axes>"
      ]
     },
     "metadata": {},
     "output_type": "display_data"
    }
   ],
   "source": [
    "sns.lineplot(x=range(24),y=shuff_y[1,:],label='true')\n",
    "sns.lineplot(x=range(24),y=y_sims[0,:])"
   ]
  },
  {
   "cell_type": "code",
   "execution_count": 238,
   "metadata": {},
   "outputs": [
    {
     "data": {
      "text/plain": [
       "<AxesSubplot:>"
      ]
     },
     "execution_count": 238,
     "metadata": {},
     "output_type": "execute_result"
    },
    {
     "data": {
      "image/png": "[encoded data removed]",
      "text/plain": [
       "<Figure size 432x288 with 1 Axes>"
      ]
     },
     "metadata": {},
     "output_type": "display_data"
    }
   ],
   "source": [
    "mu = np.zeros(5)\n",
    "cov = np.eye(5)\n",
    "r = np.random.multivariate_normal(mu,cov) \n",
    "sns.lineplot(x=range(5),y=r)"
   ]
  },
  {
   "cell_type": "code",
   "execution_count": 313,
   "metadata": {},
   "outputs": [
    {
     "data": {
      "text/plain": [
       "<AxesSubplot:>"
      ]
     },
     "execution_count": 313,
     "metadata": {},
     "output_type": "execute_result"
    },
    {
     "data": {
      "image/png": "[encoded data removed]",
      "text/plain": [
       "<Figure size 432x288 with 1 Axes>"
      ]
     },
     "metadata": {},
     "output_type": "display_data"
    }
   ],
   "source": [
    "n = 100\n",
    "mu = np.zeros(n)\n",
    "cov = np.eye(n)\n",
    "\n",
    "cov = cov_off_axis(n,cov)\n",
    "cov = cov_exp(n,mu,cov)\n",
    "\n",
    "r = np.random.multivariate_normal(mu,cov) \n",
    "sns.lineplot(x=range(n),y=r[:])"
   ]
  },
  {
   "cell_type": "code",
   "execution_count": 311,
   "metadata": {},
   "outputs": [],
   "source": [
    "def cov_off_axis(n,cov):\n",
    "    for i in range(n):\n",
    "        if i != n - 1:\n",
    "            cov[i,i+1] = .5\n",
    "        if i != 0:\n",
    "            cov[i,i-1] = .5\n",
    "    return cov\n",
    "        \n",
    "def cov_exp(n,mu,cov):\n",
    "    l = list(range(n))\n",
    "    for i in range(n):\n",
    "        for j in range(n):\n",
    "            cov[i,j] = np.exp(-(np.abs(l[i] - l[j]))*1/n)\n",
    "    return cov"
   ]
  },
  {
   "cell_type": "code",
   "execution_count": 575,
   "metadata": {},
   "outputs": [
    {
     "data": {
      "text/plain": [
       "<AxesSubplot:>"
      ]
     },
     "execution_count": 575,
     "metadata": {},
     "output_type": "execute_result"
    },
    {
     "data": {
      "image/png": "[encoded data removed]",
      "text/plain": [
       "<Figure size 432x288 with 2 Axes>"
      ]
     },
     "metadata": {},
     "output_type": "display_data"
    }
   ],
   "source": [
    "cov = bern_vb.stan_variable(var='Sigma')\n",
    "sns.heatmap(cov)"
   ]
  },
  {
   "cell_type": "code",
   "execution_count": null,
   "metadata": {},
   "outputs": [],
   "source": []
  }
 ],
 "metadata": {
  "kernelspec": {
   "display_name": "stan",
   "language": "python",
   "name": "stan"
  },
  "language_info": {
   "codemirror_mode": {
    "name": "ipython",
    "version": 3
   },
   "file_extension": ".py",
   "mimetype": "text/x-python",
   "name": "python",
   "nbconvert_exporter": "python",
   "pygments_lexer": "ipython3",
   "version": "3.9.7"
  }
 },
 "nbformat": 4,
 "nbformat_minor": 4
}
