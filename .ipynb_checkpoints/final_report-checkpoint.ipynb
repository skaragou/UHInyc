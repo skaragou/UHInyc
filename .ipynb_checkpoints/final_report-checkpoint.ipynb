{
 "cells": [
  {
   "cell_type": "code",
   "execution_count": 1,
   "id": "a0381025-14ad-41a5-94e9-e002f9cd1c29",
   "metadata": {},
   "outputs": [],
   "source": [
    "#from plot import *\n",
    "from max_model import MaxModel"
   ]
  },
  {
   "cell_type": "markdown",
   "id": "391df2c6-dc8a-440a-9900-5694a3c3d6e8",
   "metadata": {},
   "source": [
    "# Final Report - Modeling the Urban Head Island Effect in NYC"
   ]
  },
  {
   "cell_type": "markdown",
   "id": "1e3e7c00-7840-4299-957f-fdac283d24fb",
   "metadata": {},
   "source": [
    "## Introduction "
   ]
  },
  {
   "cell_type": "markdown",
   "id": "48c9872b-361d-44d8-a7bf-ff55a5257e28",
   "metadata": {
    "tags": []
   },
   "source": [
    "The urban heat island effect is a phenomenon where temperatures in cities are quite higher than those found in surrounding suburban and rural areas. The phenomenon is especially accute in large dense urban areas during summers. The higher temperatures can be attributed to the lack of geenery such as trees, a large concentration of cement and a high-use of heat-inducing equipment, such as air conditioners. Greenery tend to lower temperatures due to the release of humidity, as well as, in the case of trees, creating a canopy for the streetscape, so as to provide shade. A concentration of cement and asphalt leads to higher average tempatures, as both materials trap heat from direct sunlight and slowly release the heat throughout the night, as surfaces slowly cool down. The effect is that many areas that suffer from the UHI effect most severly have little relief from the heat at night. Lastly, the use of equipment such as air conditioners and cars, directly contribute heat to surrounding environments, which in conjunction with the other contributors to the urban heat island effect, lifts urban temperatures.\n",
    "\n",
    "The UHI effect is important to study, as in the near future, due to climate change, summers may become warmer and cities that suffer from the effect more accutely may face upticks in heat strokes among the most vulnerable populations. The Urban Heat Island effect has been studied in many cities around the world and New York City has been one of the cities that have been studied throughouly. This is due to the fact that there are large temperature disparities within the city itself. Specifically, neighborhoods that tend to be lower income tend to have the highest summer temperatures. This may be due to the fact that wealthier neighborhoods tend to have a larger density of trees, while poorer neighborhoods lack investment in their respective urban environemnt. \n",
    "\n",
    "The goal of this project is to model the urban heat island effect. Specifically, this project attempts to oberve the effect of density, tree canopy, building height and proximity to parks on the temperature in New York City throughout the day. Prior studies have tried to model the phenomenon through surface temperatures computed from satellite imagery. This project differs in that NYC captures hourly temperatures of multiple locations and hence using this data, it may possible to get a more accurate picture of the effects of these variables on temperature. \n",
    "\n",
    "Prior work (Yin et al. 2018) that has investigated the effects of these effects on the urban heat island effect through causal inference using regressions using techniques similar to those found in econometrics. In order to encode the causal assumptions for this report to allow for causal interpretation of coefficients, a Pearlean causal diagram is provided below."
   ]
  },
  {
   "cell_type": "code",
   "execution_count": null,
   "id": "e7f831cc-6b40-4272-a76c-31e8ad0693c6",
   "metadata": {},
   "outputs": [],
   "source": [
    "causal_diagram()"
   ]
  },
  {
   "cell_type": "markdown",
   "id": "41e3bf70-0e12-40e1-a633-729cfc54554d",
   "metadata": {},
   "source": [
    "### Data\n",
    "The data for this project was sourced from multiple datasets that were obtained from the NYC OpenData platform. Specifically, the datasets of Hyperlocal Temperature Monitoring, Park Properties, Building Footprints and lastly the 2015 Tree Census.\n",
    "\n",
    "The NYC Parks Department, Mayor’s Office of Resilience and NYC Department of Health and Mental Hygiene has measured the daily temperatures of neighborhoods with the highest mortality risk during two summers of 2018 and 2019 from 475 different locations in the city. The temperatures are provided on an hourly basis for each location."
   ]
  },
  {
   "cell_type": "code",
   "execution_count": null,
   "id": "5395cab3-2de9-4a45-b25b-966af7502551",
   "metadata": {},
   "outputs": [],
   "source": [
    "# GET MAPS WORKING HERE"
   ]
  },
  {
   "cell_type": "markdown",
   "id": "477fe924-7e46-440a-ae3b-58df065fcf45",
   "metadata": {},
   "source": [
    "Using this latitude and longitude of location of a sensor, it is possible to create metrics for various factors that contribute to the UHI effect. Specifcally, using the Tree census data, the metric **num_trees_15**, which is the count of trees in a 15 meter radius around a sensor. This could be seen as a measure of tree canopy around the sensor. The minimum distance to a park from a given sensor was created **min_distance_park** variable. Lastly, there are two measures of building density around a sensor that was created for this project. Firstly, **num_build50** represents the number of buildings within a 50m radius of a sensor. The idea behind this variable is that the mode buildings there are, the higher the density is in the region. The second building variable is **mean_fa_ratio**, which is the mean floor area ratio of buildings within the 50m radius of a sensor. The floor-area ratio, is the height of the building divided by the area of the building. It becomes a metric for the height of the building in proportion to the amount of space the building takes up on the street. Hence, floor-area ratio will be another functino of density, albeit with the addition of quantifying the height of buildings surrounding sensors. \n",
    "\n",
    "Below is an image of the average hourly temperatures stratified by the different variables above. As seen below, it seems that **num_trees15** has the most clear seperation in the highest temperatures of the day:"
   ]
  },
  {
   "cell_type": "code",
   "execution_count": null,
   "id": "c2f1a73e-0bd5-4b77-bb2e-f601b9e8a1f5",
   "metadata": {},
   "outputs": [],
   "source": [
    "hourly_temp_graph()"
   ]
  },
  {
   "cell_type": "markdown",
   "id": "ccd5033e-e50a-4efa-813d-f67ad9818b2d",
   "metadata": {},
   "source": [
    "## Max Model\n",
    "#### Modeling\n",
    "To begin with, the first iteration of Box's Loop in this project is quite simple. Since, the UHI will be most prevalant during the highest temperatue of the day, the simplemest model is a linear regression where the dependent variable is the maximum temperature of a given day and the indepedent variables are the variables mentioned previously: **num_trees15**,**mean_fa_ratio**,**min_distance_park** and **num_build50**. The equation for model becomes:\n",
    "\n",
    "$$ y_{\\max} | \\beta, \\sigma, X \\sim N(X\\beta, \\sigma^2 I)$$"
   ]
  },
  {
   "cell_type": "code",
   "execution_count": 2,
   "id": "dde56dc1-d50b-42d2-8c5a-e38d36071cfa",
   "metadata": {},
   "outputs": [
    {
     "name": "stderr",
     "output_type": "stream",
     "text": [
      "INFO:cmdstanpy:found newer exe file, not recompiling\n",
      "INFO:cmdstanpy:compiled model file: /Users/sotiriskaragounis/git/UHInyc/models/max_model\n"
     ]
    }
   ],
   "source": [
    "max_model = MaxModel('models/max_model.stan','data/data.csv',L=100,S=50)"
   ]
  },
  {
   "cell_type": "markdown",
   "id": "02636d88-ae10-4634-91ec-32246d1957c1",
   "metadata": {},
   "source": [
    "#### Inference\n",
    "In order to perform inference, variational inference was used due to its speed. It should be noted that in some occasions algorithm does not converge. This sometimes may not converge and may take a few attempts to run."
   ]
  },
  {
   "cell_type": "code",
   "execution_count": 3,
   "id": "7b5fdcd5-a9d0-41ba-a9e3-5533c9cf41d9",
   "metadata": {},
   "outputs": [
    {
     "name": "stderr",
     "output_type": "stream",
     "text": [
      "INFO:cmdstanpy:start chain 1\n",
      "INFO:cmdstanpy:finish chain 1\n"
     ]
    }
   ],
   "source": [
    "vb = max_model.inference()"
   ]
  },
  {
   "cell_type": "markdown",
   "id": "641a05f5-3797-4e8f-96d0-1cf5378eca9c",
   "metadata": {},
   "source": [
    "#### Critisism\n",
    "In terms of model critisism, a posterior predictive checks were made, a held-out set was created in order to measure the MSE and I plotted the predicted versus the observed value. "
   ]
  },
  {
   "cell_type": "code",
   "execution_count": 6,
   "id": "27017c9b-7456-4310-9d0a-b9ebdd4565be",
   "metadata": {},
   "outputs": [
    {
     "ename": "AttributeError",
     "evalue": "'MaxModelPlots' object has no attribute 'y_train'",
     "output_type": "error",
     "traceback": [
      "\u001b[0;31m---------------------------------------------------------------------------\u001b[0m",
      "\u001b[0;31mAttributeError\u001b[0m                            Traceback (most recent call last)",
      "\u001b[0;32m/var/folders/95/hjbq_fhx1x94_j9lsth52q0m0000gn/T/ipykernel_95025/2077986886.py\u001b[0m in \u001b[0;36m<module>\u001b[0;34m\u001b[0m\n\u001b[1;32m      1\u001b[0m \u001b[0mmax_plots\u001b[0m \u001b[0;34m=\u001b[0m \u001b[0mMaxModelPlots\u001b[0m\u001b[0;34m(\u001b[0m\u001b[0mmax_model\u001b[0m\u001b[0;34m.\u001b[0m\u001b[0mX_train\u001b[0m\u001b[0;34m,\u001b[0m\u001b[0mmax_model\u001b[0m\u001b[0;34m.\u001b[0m\u001b[0mX_val\u001b[0m\u001b[0;34m,\u001b[0m\u001b[0mmax_model\u001b[0m\u001b[0;34m.\u001b[0m\u001b[0my_train\u001b[0m\u001b[0;34m,\u001b[0m\u001b[0mmax_model\u001b[0m\u001b[0;34m.\u001b[0m\u001b[0my_val\u001b[0m\u001b[0;34m,\u001b[0m\u001b[0mvb\u001b[0m\u001b[0;34m)\u001b[0m\u001b[0;34m\u001b[0m\u001b[0;34m\u001b[0m\u001b[0m\n\u001b[0;32m----> 2\u001b[0;31m \u001b[0mmax_plots\u001b[0m\u001b[0;34m.\u001b[0m\u001b[0mposterior_predictive_checks\u001b[0m\u001b[0;34m(\u001b[0m\u001b[0;34m)\u001b[0m\u001b[0;34m\u001b[0m\u001b[0;34m\u001b[0m\u001b[0m\n\u001b[0m",
      "\u001b[0;32m/var/folders/95/hjbq_fhx1x94_j9lsth52q0m0000gn/T/ipykernel_95025/1502223336.py\u001b[0m in \u001b[0;36mposterior_predictive_checks\u001b[0;34m(self)\u001b[0m\n\u001b[1;32m     28\u001b[0m \u001b[0;34m\u001b[0m\u001b[0m\n\u001b[1;32m     29\u001b[0m         \u001b[0;32mdef\u001b[0m \u001b[0mposterior_predictive_checks\u001b[0m\u001b[0;34m(\u001b[0m\u001b[0mself\u001b[0m\u001b[0;34m)\u001b[0m\u001b[0;34m:\u001b[0m\u001b[0;34m\u001b[0m\u001b[0;34m\u001b[0m\u001b[0m\n\u001b[0;32m---> 30\u001b[0;31m                 \u001b[0my_p\u001b[0m \u001b[0;34m=\u001b[0m \u001b[0mself\u001b[0m\u001b[0;34m.\u001b[0m\u001b[0my_train\u001b[0m\u001b[0;34m[\u001b[0m\u001b[0;34m:\u001b[0m\u001b[0mself\u001b[0m\u001b[0;34m.\u001b[0m\u001b[0mL\u001b[0m\u001b[0;34m]\u001b[0m\u001b[0;34m\u001b[0m\u001b[0;34m\u001b[0m\u001b[0m\n\u001b[0m\u001b[1;32m     31\u001b[0m \u001b[0;34m\u001b[0m\u001b[0m\n\u001b[1;32m     32\u001b[0m                 \u001b[0mfunctions\u001b[0m \u001b[0;34m=\u001b[0m \u001b[0;34m[\u001b[0m\u001b[0mnp\u001b[0m\u001b[0;34m.\u001b[0m\u001b[0mmean\u001b[0m\u001b[0;34m,\u001b[0m\u001b[0mnp\u001b[0m\u001b[0;34m.\u001b[0m\u001b[0mmin\u001b[0m\u001b[0;34m,\u001b[0m\u001b[0mnp\u001b[0m\u001b[0;34m.\u001b[0m\u001b[0mmax\u001b[0m\u001b[0;34m,\u001b[0m\u001b[0mnp\u001b[0m\u001b[0;34m.\u001b[0m\u001b[0mvar\u001b[0m\u001b[0;34m,\u001b[0m\u001b[0mnp\u001b[0m\u001b[0;34m.\u001b[0m\u001b[0mmedian\u001b[0m\u001b[0;34m]\u001b[0m\u001b[0;34m\u001b[0m\u001b[0;34m\u001b[0m\u001b[0m\n",
      "\u001b[0;31mAttributeError\u001b[0m: 'MaxModelPlots' object has no attribute 'y_train'"
     ]
    }
   ],
   "source": [
    "max_plots = MaxModelPlots(max_model.X_train,max_model.X_val,max_model.y_train,max_model.y_val,vb)\n",
    "max_plots.posterior_predictive_checks()"
   ]
  },
  {
   "cell_type": "markdown",
   "id": "5636f2e5-9353-4f06-80fe-5e394eefb01d",
   "metadata": {},
   "source": [
    "As seen above, I checked the mean, minmum, maximum, variance and median of the predictive posterior to the true value (the red line). As seen above, the model does not fit the data very well. Specifically, it seems, while the mean and median are acceptable, the minimum, maximum and variance of the model are off. I hypothesize this is due to the inherent issue of the indepdent variables not explaining much of the variation in the temperature sensors. Unlike the observations made in the paper, which used satellite imagery, temperature sensors are suceptible to a myriad of environmental factors which are not measured in the dataset I created. Some variables that could be factors could be: cloud coverage, shade, and sensor accuracy."
   ]
  },
  {
   "cell_type": "code",
   "execution_count": null,
   "id": "30dbcedb-b3be-4dbc-a301-de3eed55b0d6",
   "metadata": {},
   "outputs": [],
   "source": [
    "print('MSE:',max_model.mse())"
   ]
  },
  {
   "cell_type": "markdown",
   "id": "2b1b50c3-7b5e-41d8-b2b9-79914f40bc21",
   "metadata": {},
   "source": [
    "In terms of model evaluation, I left our 20% of the data as an evaluation set. A full cross-validation could not be done in the time constraints; however, it would be a next step to more accurately estimate the mean squared error of the model."
   ]
  },
  {
   "cell_type": "code",
   "execution_count": null,
   "id": "6ad0f6af-449a-4920-b711-b489fbb870b4",
   "metadata": {},
   "outputs": [],
   "source": [
    "max_model.predicted_v_observed()"
   ]
  },
  {
   "cell_type": "code",
   "execution_count": 10,
   "id": "13121c89-ffee-4e4a-8218-2f13aaaf1468",
   "metadata": {},
   "outputs": [
    {
     "ename": "TabError",
     "evalue": "inconsistent use of tabs and spaces in indentation (1384361158.py, line 20)",
     "output_type": "error",
     "traceback": [
      "\u001b[0;36m  File \u001b[0;32m\"/var/folders/95/hjbq_fhx1x94_j9lsth52q0m0000gn/T/ipykernel_95025/1384361158.py\"\u001b[0;36m, line \u001b[0;32m20\u001b[0m\n\u001b[0;31m    def get_params(self):\u001b[0m\n\u001b[0m                         ^\u001b[0m\n\u001b[0;31mTabError\u001b[0m\u001b[0;31m:\u001b[0m inconsistent use of tabs and spaces in indentation\n"
     ]
    }
   ],
   "source": [
    "import pandas as pd\n",
    "import numpy as np\n",
    "import random\n",
    "import matplotlib.pyplot as plt\n",
    "import seaborn as sns\n",
    "import scipy.stats as stats\n",
    "from collections import defaultdict\n",
    "\n",
    "class MaxModelPlots:\n",
    "\n",
    "\tdef __init__(self,X_train,X_val,y_train,y_val,vb):\n",
    "\t\tself.cols = ['num_build500','mean_fa_ratio','min_distance_park','num_trees_15m','bias']\n",
    "\t\tself.y_sims = vb.stan_variable(var='y_rep')\n",
    "\t\tself.y_out = vb.stan_variable(var='y_out')\n",
    "\t\tself.b = vb.stan_variable(var='beta')\n",
    "        \n",
    "\t\tself.X_train, self.X_val = X_train, X_val\n",
    "\t\tself.y_train, self.y_val = y_train, y_val\n",
    "\n",
    "\tdef get_params(self):\n",
    "\t\tout_cols = ['beta[1]', 'beta[2]', 'beta[3]','beta[4]', 'beta[5]', 'sigma']\n",
    "\t\tdict_rename = dict(zip(out_cols,cols))\n",
    "\t\treturn vb.variational_params_pd[out_cols].rename(columns=dict_rename)\n",
    "\n",
    "    def mse(self):\n",
    "\t\treturn mean_squared_error(self.y_val,self.y_out)\n",
    "\n",
    "    def agg(self,simulated_data,y,agg_func):\n",
    "        agg_data = agg_func(simulated_data,axis=1)\n",
    "        return agg_data,agg_func(y)\n",
    "\n",
    "\tdef posterior_predictive_checks(self):\n",
    "\t\ty_p = self.y_train[:self.L] \n",
    "\n",
    "\t\tfunctions = [np.mean,np.min,np.max,np.var,np.median]\n",
    "\t\ttitles = ['Mean','Min','Max','Variance','Median']\n",
    "\t\ty_acc = []\n",
    "\n",
    "\t\tdf = pd.DataFrame()\n",
    "\n",
    "\t\tfor i,(func,title) in enumerate(zip(functions,titles)):\n",
    "\t\t\tagg_data,agg_y = agg(self.y_sims,y_p,func)\n",
    "\t\t\tdf_temp = pd.DataFrame({'Value':agg_data, 'Function': titles[i]})\n",
    "\t\t\ty_acc.append(agg_y)\n",
    "\t\t\tdf = df.append(df_temp)\n",
    "\t\t\n",
    "\t\tg = sns.FacetGrid(df, col=\"Function\",  sharex=False)\n",
    "\t\tg.map_dataframe(sns.histplot, x=\"Value\")\n",
    "\t\tg.fig.suptitle('Posterior Predictive Checks',fontsize=20,y=1.1)\n",
    "\n",
    "\t\tfor i,ax in enumerate(g.axes[0]):\n",
    "\t\t\tax.axvline(x = y_acc[i], color='red', linewidth=1,label='Original Data')\n",
    "\n",
    "\t\tplt.show()\n",
    "\n",
    "\tdef predicted_v_observed(self):\n",
    "\t\tplt.figure(figsize=(10,10))\n",
    "\t\tax = sns.scatterplot(y=self.y_out,x=self.y_val,alpha=0.5,color='red')\n",
    "\t\tax.get_figure().suptitle('Predicted vs Observed',fontsize=20)\n",
    "\t\tax.set(xlabel='Observed Air Temperature (F)',ylabel='Predicted Air Temperature (F)')\n",
    "\t\tx0, x1 = ax.get_xlim()\n",
    "\t\ty0, y1 = ax.get_ylim()\n",
    "\t\tlims = [max(x0, y0), min(x1, y1)]\n",
    "\t\tax.plot((x0,x1),(y0,y1), ':k')\n",
    "\t\tplt.show()\n"
   ]
  },
  {
   "cell_type": "markdown",
   "id": "a519b419-b4a7-404b-8b4e-18ab1625fae0",
   "metadata": {},
   "source": [
    "## Averaged 24 Hour Model"
   ]
  },
  {
   "cell_type": "markdown",
   "id": "910fac12-5c21-43be-ad5e-67b00b362940",
   "metadata": {},
   "source": [
    "#### Modeling\n",
    "The second model attempts to model the UHI effect throughout the day. The reason this would be of interest is that "
   ]
  },
  {
   "cell_type": "markdown",
   "id": "5b123bec-9764-4133-8271-2ccaab60a7a2",
   "metadata": {},
   "source": [
    "#### Inference"
   ]
  },
  {
   "cell_type": "markdown",
   "id": "f87bbe97-d75a-46a8-8a71-24688b0e77c3",
   "metadata": {},
   "source": [
    "#### Critisism"
   ]
  },
  {
   "cell_type": "markdown",
   "id": "34d8276a-dab7-463c-acea-5341048a1ccc",
   "metadata": {},
   "source": [
    "## Discussion "
   ]
  },
  {
   "cell_type": "markdown",
   "id": "88aa629d-d009-4fb5-8ab2-17f789ad0056",
   "metadata": {},
   "source": []
  },
  {
   "cell_type": "markdown",
   "id": "bc2250bc-9b16-4606-942d-ce67526f867b",
   "metadata": {},
   "source": [
    "## References"
   ]
  }
 ],
 "metadata": {
  "kernelspec": {
   "display_name": "stan",
   "language": "python",
   "name": "stan"
  },
  "language_info": {
   "codemirror_mode": {
    "name": "ipython",
    "version": 3
   },
   "file_extension": ".py",
   "mimetype": "text/x-python",
   "name": "python",
   "nbconvert_exporter": "python",
   "pygments_lexer": "ipython3",
   "version": "3.9.7"
  }
 },
 "nbformat": 4,
 "nbformat_minor": 5
}
