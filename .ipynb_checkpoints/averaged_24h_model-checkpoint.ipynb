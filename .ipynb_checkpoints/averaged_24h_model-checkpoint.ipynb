{
 "cells": [
  {
   "cell_type": "code",
   "execution_count": 1,
   "metadata": {},
   "outputs": [],
   "source": [
    "import cmdstanpy\n",
    "import pandas as pd\n",
    "import numpy as np\n",
    "from cmdstanpy import cmdstan_path, CmdStanModel\n",
    "import random\n",
    "from tqdm import tqdm\n",
    "import matplotlib.pyplot as plt\n",
    "import seaborn as sns\n",
    "import json\n",
    "import scipy.stats as stats\n",
    "import patsy\n",
    "from collections import defaultdict\n",
    "\n",
    "MODEL_PATH = 'time_model_2.stan'\n",
    "\n",
    "sns.set_style(\"darkgrid\", {\"axes.facecolor\": \".9\"})"
   ]
  },
  {
   "cell_type": "code",
   "execution_count": 2,
   "metadata": {},
   "outputs": [
    {
     "data": {
      "text/html": [
       "<div>\n",
       "<style scoped>\n",
       "    .dataframe tbody tr th:only-of-type {\n",
       "        vertical-align: middle;\n",
       "    }\n",
       "\n",
       "    .dataframe tbody tr th {\n",
       "        vertical-align: top;\n",
       "    }\n",
       "\n",
       "    .dataframe thead th {\n",
       "        text-align: right;\n",
       "    }\n",
       "</style>\n",
       "<table border=\"1\" class=\"dataframe\">\n",
       "  <thead>\n",
       "    <tr style=\"text-align: right;\">\n",
       "      <th></th>\n",
       "      <th>Sensor.ID</th>\n",
       "      <th>AirTemp</th>\n",
       "      <th>Day</th>\n",
       "      <th>Hour</th>\n",
       "      <th>Latitude</th>\n",
       "      <th>Longitude</th>\n",
       "      <th>Year</th>\n",
       "      <th>Install.Type</th>\n",
       "      <th>Borough</th>\n",
       "      <th>ntacode</th>\n",
       "    </tr>\n",
       "  </thead>\n",
       "  <tbody>\n",
       "    <tr>\n",
       "      <th>0</th>\n",
       "      <td>Bk-BR_01</td>\n",
       "      <td>71.189000</td>\n",
       "      <td>06/15/2018</td>\n",
       "      <td>1</td>\n",
       "      <td>40.666205</td>\n",
       "      <td>-73.91691</td>\n",
       "      <td>2018</td>\n",
       "      <td>Street Tree</td>\n",
       "      <td>Brooklyn</td>\n",
       "      <td>BK81</td>\n",
       "    </tr>\n",
       "    <tr>\n",
       "      <th>1</th>\n",
       "      <td>Bk-BR_01</td>\n",
       "      <td>70.243333</td>\n",
       "      <td>06/15/2018</td>\n",
       "      <td>2</td>\n",
       "      <td>40.666205</td>\n",
       "      <td>-73.91691</td>\n",
       "      <td>2018</td>\n",
       "      <td>Street Tree</td>\n",
       "      <td>Brooklyn</td>\n",
       "      <td>BK81</td>\n",
       "    </tr>\n",
       "    <tr>\n",
       "      <th>2</th>\n",
       "      <td>Bk-BR_01</td>\n",
       "      <td>69.392667</td>\n",
       "      <td>06/15/2018</td>\n",
       "      <td>3</td>\n",
       "      <td>40.666205</td>\n",
       "      <td>-73.91691</td>\n",
       "      <td>2018</td>\n",
       "      <td>Street Tree</td>\n",
       "      <td>Brooklyn</td>\n",
       "      <td>BK81</td>\n",
       "    </tr>\n",
       "    <tr>\n",
       "      <th>3</th>\n",
       "      <td>Bk-BR_01</td>\n",
       "      <td>68.263167</td>\n",
       "      <td>06/15/2018</td>\n",
       "      <td>4</td>\n",
       "      <td>40.666205</td>\n",
       "      <td>-73.91691</td>\n",
       "      <td>2018</td>\n",
       "      <td>Street Tree</td>\n",
       "      <td>Brooklyn</td>\n",
       "      <td>BK81</td>\n",
       "    </tr>\n",
       "    <tr>\n",
       "      <th>4</th>\n",
       "      <td>Bk-BR_01</td>\n",
       "      <td>67.114000</td>\n",
       "      <td>06/15/2018</td>\n",
       "      <td>5</td>\n",
       "      <td>40.666205</td>\n",
       "      <td>-73.91691</td>\n",
       "      <td>2018</td>\n",
       "      <td>Street Tree</td>\n",
       "      <td>Brooklyn</td>\n",
       "      <td>BK81</td>\n",
       "    </tr>\n",
       "  </tbody>\n",
       "</table>\n",
       "</div>"
      ],
      "text/plain": [
       "  Sensor.ID    AirTemp         Day  Hour   Latitude  Longitude  Year  \\\n",
       "0  Bk-BR_01  71.189000  06/15/2018     1  40.666205  -73.91691  2018   \n",
       "1  Bk-BR_01  70.243333  06/15/2018     2  40.666205  -73.91691  2018   \n",
       "2  Bk-BR_01  69.392667  06/15/2018     3  40.666205  -73.91691  2018   \n",
       "3  Bk-BR_01  68.263167  06/15/2018     4  40.666205  -73.91691  2018   \n",
       "4  Bk-BR_01  67.114000  06/15/2018     5  40.666205  -73.91691  2018   \n",
       "\n",
       "  Install.Type   Borough ntacode  \n",
       "0  Street Tree  Brooklyn    BK81  \n",
       "1  Street Tree  Brooklyn    BK81  \n",
       "2  Street Tree  Brooklyn    BK81  \n",
       "3  Street Tree  Brooklyn    BK81  \n",
       "4  Street Tree  Brooklyn    BK81  "
      ]
     },
     "execution_count": 2,
     "metadata": {},
     "output_type": "execute_result"
    }
   ],
   "source": [
    "temps = pd.read_csv('data/Hyperlocal_Temperature_Monitoring.csv')\n",
    "temps.head()"
   ]
  },
  {
   "cell_type": "code",
   "execution_count": 3,
   "metadata": {},
   "outputs": [],
   "source": [
    "covariates = pd.read_csv('data/temp3.csv').round(8)\n",
    "covariates2 = pd.read_csv('data/temp_1.csv').round(8)\n",
    "covariates = covariates.merge(covariates2)\n",
    "covariates['mean_fa_ratio'] = covariates['mean_fa_ratio'].fillna(0)\n",
    "temps = temps.drop(index=np.where(temps['AirTemp'].isna())[0])\n",
    "data = temps.merge(covariates, how='outer', on=['Latitude','Longitude'])"
   ]
  },
  {
   "cell_type": "code",
   "execution_count": 4,
   "metadata": {},
   "outputs": [],
   "source": [
    "data['Day'] =pd.to_datetime(data.Day)\n",
    "data = data.sort_values(by=['Sensor.ID','Day'])"
   ]
  },
  {
   "cell_type": "code",
   "execution_count": 5,
   "metadata": {},
   "outputs": [
    {
     "ename": "NameError",
     "evalue": "name 'g' is not defined",
     "output_type": "error",
     "traceback": [
      "\u001b[0;31m---------------------------------------------------------------------------\u001b[0m",
      "\u001b[0;31mNameError\u001b[0m                                 Traceback (most recent call last)",
      "\u001b[0;32m/var/folders/95/hjbq_fhx1x94_j9lsth52q0m0000gn/T/ipykernel_21946/810432535.py\u001b[0m in \u001b[0;36m<module>\u001b[0;34m\u001b[0m\n\u001b[1;32m      1\u001b[0m \u001b[0mH\u001b[0m \u001b[0;34m=\u001b[0m \u001b[0;36m24\u001b[0m\u001b[0;34m\u001b[0m\u001b[0;34m\u001b[0m\u001b[0m\n\u001b[1;32m      2\u001b[0m \u001b[0mK\u001b[0m \u001b[0;34m=\u001b[0m \u001b[0;36m4\u001b[0m\u001b[0;34m\u001b[0m\u001b[0;34m\u001b[0m\u001b[0m\n\u001b[0;32m----> 3\u001b[0;31m \u001b[0mN\u001b[0m \u001b[0;34m=\u001b[0m \u001b[0mlen\u001b[0m\u001b[0;34m(\u001b[0m\u001b[0mg\u001b[0m\u001b[0;34m.\u001b[0m\u001b[0mindices\u001b[0m\u001b[0;34m)\u001b[0m\u001b[0;34m\u001b[0m\u001b[0;34m\u001b[0m\u001b[0m\n\u001b[0m\u001b[1;32m      4\u001b[0m \u001b[0mW\u001b[0m \u001b[0;34m=\u001b[0m \u001b[0;36m3\u001b[0m\u001b[0;34m\u001b[0m\u001b[0;34m\u001b[0m\u001b[0m\n\u001b[1;32m      5\u001b[0m \u001b[0;34m\u001b[0m\u001b[0m\n",
      "\u001b[0;31mNameError\u001b[0m: name 'g' is not defined"
     ]
    }
   ],
   "source": [
    "H = 24\n",
    "K = 4\n",
    "N = len(g.indices)\n",
    "W = 3\n",
    "\n",
    "y = []#np.zeros([N,H])\n",
    "X = []#np.zeros([N,K])\n",
    "i = 0\n",
    "g = data.groupby(['Sensor.ID'])\n",
    "for k,_ in tqdm(g.indices.items()):\n",
    "    sub_group = g.get_group(k)\n",
    "    unique_dates = sub_group.Day.unique()\n",
    "    windows = [unique_dates[x:x+W] for x in range(0, len(unique_dates), W)]\n",
    "    for window in windows:\n",
    "        hours = defaultdict(list)\n",
    "        for day in window:\n",
    "            day_group = sub_group[sub_group.Day == day]\n",
    "            for _,row in day_group.iterrows():\n",
    "                hours[row.Hour].append(row.AirTemp)\n",
    "        result = np.zeros(H)\n",
    "        for k,v in hours.items():\n",
    "            result[k] = np.mean(v)\n",
    "        y.append(result)\n",
    "        covariates = sub_group[['num_build500','mean_fa_ratio','min_distance_park','num_trees_50m']].iloc[0].values\n",
    "        X.append(covariates)\n",
    "\n",
    "y = np.array(y)\n",
    "X = np.array(X)"
   ]
  },
  {
   "cell_type": "code",
   "execution_count": null,
   "metadata": {},
   "outputs": [],
   "source": [
    "N = y.shape[0]\n",
    "X_new_size = 20\n",
    "K = X.shape[1]\n",
    "# X_size = N - X_new_size\n",
    "X_size = 5000\n",
    "shuff_idx = random.shuffle(list(range(N)))\n",
    "shuff_y, shuff_X = y[shuff_idx,:][0], X[shuff_idx,:][0]\n",
    "beta_mean = np.random.normal(size=X.shape[1])\n",
    "beta_sd = np.random.uniform(size=X.shape[1])"
   ]
  },
  {
   "cell_type": "code",
   "execution_count": null,
   "metadata": {},
   "outputs": [],
   "source": [
    "d = {'N': N, 'M': X_size, 'H': H, 'K': K, 'X': shuff_X, 'y': shuff_y,'beta_mean': beta_mean,'beta_sd': beta_sd,'y_cov':shuff_y[:X_size,:].T}"
   ]
  },
  {
   "cell_type": "code",
   "execution_count": null,
   "metadata": {},
   "outputs": [],
   "source": [
    "model = CmdStanModel(stan_file=MODEL_PATH)"
   ]
  },
  {
   "cell_type": "code",
   "execution_count": null,
   "metadata": {
    "tags": []
   },
   "outputs": [],
   "source": [
    "bern_vb = model.variational(data=d)"
   ]
  },
  {
   "cell_type": "markdown",
   "metadata": {},
   "source": [
    "## MCMC"
   ]
  },
  {
   "cell_type": "code",
   "execution_count": null,
   "metadata": {},
   "outputs": [],
   "source": [
    "b = bern_vb.stan_variable(var='beta')\n",
    "for i in range(4):\n",
    "    sns.lineplot(x=range(24),y=b[:,i])"
   ]
  },
  {
   "cell_type": "code",
   "execution_count": 126,
   "metadata": {
    "tags": []
   },
   "outputs": [],
   "source": [
    "y_sims = bern_vb.stan_variable(var='y_rep')\n",
    "b = bern_vb.stan_variable(var='beta')"
   ]
  },
  {
   "cell_type": "code",
   "execution_count": 134,
   "metadata": {},
   "outputs": [
    {
     "data": {
      "text/plain": [
       "<AxesSubplot:>"
      ]
     },
     "execution_count": 134,
     "metadata": {},
     "output_type": "execute_result"
    },
    {
     "data": {
      "image/png": "[encoded data removed]",
      "text/plain": [
       "<Figure size 432x288 with 1 Axes>"
      ]
     },
     "metadata": {},
     "output_type": "display_data"
    }
   ],
   "source": [
    "sns.lineplot(x=range(24),y=shuff_y[1,:],label='true')\n",
    "sns.lineplot(x=range(24),y=y_sims[1,:])"
   ]
  },
  {
   "cell_type": "code",
   "execution_count": 72,
   "metadata": {},
   "outputs": [
    {
     "data": {
      "text/plain": [
       "array([[109.635 ,  36.9402,  75.5907, ...,  86.8122,  77.4421,  82.6085],\n",
       "       [ 71.379 , 126.048 ,  86.016 , ...,  92.9844,  57.9414, 107.087 ],\n",
       "       [ 97.4797,  81.9307,  63.7786, ...,  45.6501,  44.9252,  63.4799],\n",
       "       ...,\n",
       "       [ 41.8368,  32.5171,  52.6665, ...,  25.7785,  37.6924,  73.5269],\n",
       "       [ 61.7882,  45.8195,  29.4195, ...,  12.0172,  35.4037,  28.5884],\n",
       "       [ 17.5021,  25.3326,  13.7682, ...,  94.9632, 114.677 ,  84.1153]])"
      ]
     },
     "execution_count": 72,
     "metadata": {},
     "output_type": "execute_result"
    }
   ],
   "source": [
    "y_sims"
   ]
  },
  {
   "cell_type": "code",
   "execution_count": null,
   "metadata": {},
   "outputs": [],
   "source": []
  }
 ],
 "metadata": {
  "kernelspec": {
   "display_name": "stan",
   "language": "python",
   "name": "stan"
  },
  "language_info": {
   "codemirror_mode": {
    "name": "ipython",
    "version": 3
   },
   "file_extension": ".py",
   "mimetype": "text/x-python",
   "name": "python",
   "nbconvert_exporter": "python",
   "pygments_lexer": "ipython3",
   "version": "3.9.7"
  }
 },
 "nbformat": 4,
 "nbformat_minor": 4
}
