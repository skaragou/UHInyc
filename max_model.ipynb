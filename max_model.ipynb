{
 "cells": [
  {
   "cell_type": "code",
   "execution_count": 619,
   "metadata": {},
   "outputs": [],
   "source": [
    "import cmdstanpy\n",
    "import pandas as pd\n",
    "import numpy as np\n",
    "from cmdstanpy import cmdstan_path, CmdStanModel\n",
    "import random\n",
    "from tqdm import tqdm\n",
    "import matplotlib.pyplot as plt\n",
    "import seaborn as sns\n",
    "import json\n",
    "import scipy.stats as stats\n",
    "\n",
    "MODEL_PATH = 'max_model.stan'\n",
    "sns.set_style(\"darkgrid\", {\"axes.facecolor\": \".9\"})"
   ]
  },
  {
   "cell_type": "code",
   "execution_count": 640,
   "metadata": {},
   "outputs": [
    {
     "data": {
      "text/html": [
       "<div>\n",
       "<style scoped>\n",
       "    .dataframe tbody tr th:only-of-type {\n",
       "        vertical-align: middle;\n",
       "    }\n",
       "\n",
       "    .dataframe tbody tr th {\n",
       "        vertical-align: top;\n",
       "    }\n",
       "\n",
       "    .dataframe thead th {\n",
       "        text-align: right;\n",
       "    }\n",
       "</style>\n",
       "<table border=\"1\" class=\"dataframe\">\n",
       "  <thead>\n",
       "    <tr style=\"text-align: right;\">\n",
       "      <th></th>\n",
       "      <th>Sensor.ID</th>\n",
       "      <th>AirTemp</th>\n",
       "      <th>Day</th>\n",
       "      <th>Hour</th>\n",
       "      <th>Latitude</th>\n",
       "      <th>Longitude</th>\n",
       "      <th>Year</th>\n",
       "      <th>Install.Type</th>\n",
       "      <th>Borough</th>\n",
       "      <th>ntacode</th>\n",
       "    </tr>\n",
       "  </thead>\n",
       "  <tbody>\n",
       "    <tr>\n",
       "      <th>0</th>\n",
       "      <td>Bk-BR_01</td>\n",
       "      <td>71.189000</td>\n",
       "      <td>06/15/2018</td>\n",
       "      <td>1</td>\n",
       "      <td>40.666205</td>\n",
       "      <td>-73.91691</td>\n",
       "      <td>2018</td>\n",
       "      <td>Street Tree</td>\n",
       "      <td>Brooklyn</td>\n",
       "      <td>BK81</td>\n",
       "    </tr>\n",
       "    <tr>\n",
       "      <th>1</th>\n",
       "      <td>Bk-BR_01</td>\n",
       "      <td>70.243333</td>\n",
       "      <td>06/15/2018</td>\n",
       "      <td>2</td>\n",
       "      <td>40.666205</td>\n",
       "      <td>-73.91691</td>\n",
       "      <td>2018</td>\n",
       "      <td>Street Tree</td>\n",
       "      <td>Brooklyn</td>\n",
       "      <td>BK81</td>\n",
       "    </tr>\n",
       "    <tr>\n",
       "      <th>2</th>\n",
       "      <td>Bk-BR_01</td>\n",
       "      <td>69.392667</td>\n",
       "      <td>06/15/2018</td>\n",
       "      <td>3</td>\n",
       "      <td>40.666205</td>\n",
       "      <td>-73.91691</td>\n",
       "      <td>2018</td>\n",
       "      <td>Street Tree</td>\n",
       "      <td>Brooklyn</td>\n",
       "      <td>BK81</td>\n",
       "    </tr>\n",
       "    <tr>\n",
       "      <th>3</th>\n",
       "      <td>Bk-BR_01</td>\n",
       "      <td>68.263167</td>\n",
       "      <td>06/15/2018</td>\n",
       "      <td>4</td>\n",
       "      <td>40.666205</td>\n",
       "      <td>-73.91691</td>\n",
       "      <td>2018</td>\n",
       "      <td>Street Tree</td>\n",
       "      <td>Brooklyn</td>\n",
       "      <td>BK81</td>\n",
       "    </tr>\n",
       "    <tr>\n",
       "      <th>4</th>\n",
       "      <td>Bk-BR_01</td>\n",
       "      <td>67.114000</td>\n",
       "      <td>06/15/2018</td>\n",
       "      <td>5</td>\n",
       "      <td>40.666205</td>\n",
       "      <td>-73.91691</td>\n",
       "      <td>2018</td>\n",
       "      <td>Street Tree</td>\n",
       "      <td>Brooklyn</td>\n",
       "      <td>BK81</td>\n",
       "    </tr>\n",
       "  </tbody>\n",
       "</table>\n",
       "</div>"
      ],
      "text/plain": [
       "  Sensor.ID    AirTemp         Day  Hour   Latitude  Longitude  Year  \\\n",
       "0  Bk-BR_01  71.189000  06/15/2018     1  40.666205  -73.91691  2018   \n",
       "1  Bk-BR_01  70.243333  06/15/2018     2  40.666205  -73.91691  2018   \n",
       "2  Bk-BR_01  69.392667  06/15/2018     3  40.666205  -73.91691  2018   \n",
       "3  Bk-BR_01  68.263167  06/15/2018     4  40.666205  -73.91691  2018   \n",
       "4  Bk-BR_01  67.114000  06/15/2018     5  40.666205  -73.91691  2018   \n",
       "\n",
       "  Install.Type   Borough ntacode  \n",
       "0  Street Tree  Brooklyn    BK81  \n",
       "1  Street Tree  Brooklyn    BK81  \n",
       "2  Street Tree  Brooklyn    BK81  \n",
       "3  Street Tree  Brooklyn    BK81  \n",
       "4  Street Tree  Brooklyn    BK81  "
      ]
     },
     "execution_count": 640,
     "metadata": {},
     "output_type": "execute_result"
    }
   ],
   "source": [
    "temps = pd.read_csv('data/Hyperlocal_Temperature_Monitoring.csv')\n",
    "temps.head()"
   ]
  },
  {
   "cell_type": "code",
   "execution_count": 641,
   "metadata": {},
   "outputs": [],
   "source": [
    "covariates = pd.read_csv('data/temp3.csv').round(8)\n",
    "covariates2 = pd.read_csv('data/temp_1.csv').round(8)\n",
    "covariates = covariates.merge(covariates2)\n",
    "covariates['mean_fa_ratio'] = covariates['mean_fa_ratio'].fillna(0)\n",
    "temps = temps.drop(index=np.where(temps['AirTemp'].isna())[0]).reset_index(0)\n",
    "temps = temps.groupby(['Latitude','Longitude','Day','Year']).agg({'AirTemp':np.max}).reset_index(0).reset_index(0).reset_index(0).reset_index(0)\n",
    "data = temps.merge(covariates, how='outer', on=['Latitude','Longitude'])"
   ]
  },
  {
   "cell_type": "code",
   "execution_count": 499,
   "metadata": {},
   "outputs": [],
   "source": [
    "N = data.shape[0]\n",
    "X_new_size = 5000\n",
    "X_size = N - X_new_size\n",
    "shuffled_data = data.sample(frac=1)"
   ]
  },
  {
   "cell_type": "code",
   "execution_count": 500,
   "metadata": {},
   "outputs": [],
   "source": [
    "d = {'N': N, 'M': X_size}\n",
    "\n",
    "for col in shuffled_data.columns:\n",
    "    if col not in ['Day','Year','Latitude','Longitude','AirTemp']:\n",
    "        d[col] = shuffled_data[col].values\n",
    "\n",
    "d['y'] = shuffled_data['AirTemp'].values\n",
    "r = json.dumps(d,cls=NpEncoder)\n",
    "with open('data/data.json', 'w') as f:\n",
    "    json.dump(json.loads(r), f)"
   ]
  },
  {
   "cell_type": "code",
   "execution_count": 501,
   "metadata": {},
   "outputs": [],
   "source": [
    "DATA = 'data/data.json'"
   ]
  },
  {
   "cell_type": "code",
   "execution_count": 613,
   "metadata": {},
   "outputs": [
    {
     "name": "stderr",
     "output_type": "stream",
     "text": [
      "INFO:cmdstanpy:compiling stan program, exe file: /Users/sotiriskaragounis/git/UHInyc/max_model\n",
      "INFO:cmdstanpy:compiler options: stanc_options={}, cpp_options={}\n",
      "INFO:cmdstanpy:compiled model file: /Users/sotiriskaragounis/git/UHInyc/max_model\n"
     ]
    }
   ],
   "source": [
    "model = CmdStanModel(stan_file=MODEL_PATH)"
   ]
  },
  {
   "cell_type": "code",
   "execution_count": 514,
   "metadata": {},
   "outputs": [
    {
     "name": "stderr",
     "output_type": "stream",
     "text": [
      "INFO:cmdstanpy:start chain 1\n",
      "INFO:cmdstanpy:finish chain 1\n",
      "WARNING:cmdstanpy:The algorithm may not have converged.\n",
      "Proceeding because require_converged is set to False\n"
     ]
    }
   ],
   "source": [
    "bern_vb = model.variational(data=d,require_converged=False)"
   ]
  },
  {
   "cell_type": "markdown",
   "metadata": {},
   "source": [
    "## MCMC"
   ]
  },
  {
   "cell_type": "code",
   "execution_count": 614,
   "metadata": {},
   "outputs": [
    {
     "name": "stderr",
     "output_type": "stream",
     "text": [
      "INFO:cmdstanpy:start chain 1\n",
      "INFO:cmdstanpy:start chain 2\n",
      "INFO:cmdstanpy:start chain 3\n",
      "INFO:cmdstanpy:start chain 4\n",
      "INFO:cmdstanpy:finish chain 3\n",
      "INFO:cmdstanpy:finish chain 2\n",
      "INFO:cmdstanpy:finish chain 4\n",
      "INFO:cmdstanpy:finish chain 1\n"
     ]
    }
   ],
   "source": [
    "mle = model.sample(data=d)"
   ]
  },
  {
   "cell_type": "code",
   "execution_count": null,
   "metadata": {},
   "outputs": [],
   "source": [
    "sns.distplot(result)\n",
    "sns.distplot(test['AirTemp'])"
   ]
  },
  {
   "cell_type": "code",
   "execution_count": 517,
   "metadata": {},
   "outputs": [
    {
     "data": {
      "text/plain": [
       "[('lp__', 0.0),\n",
       " ('log_p__', 0.0),\n",
       " ('log_g__', 0.0),\n",
       " ('a', -0.171194),\n",
       " ('b', 14.7905),\n",
       " ('c', 0.00567869),\n",
       " ('d', 2.34518),\n",
       " ('bias', 65.7913),\n",
       " ('sigma', 85.6991),\n",
       " ('log_p', -441575.0)]"
      ]
     },
     "execution_count": 517,
     "metadata": {},
     "output_type": "execute_result"
    }
   ],
   "source": [
    "list(bern_vb.variational_params_dict.items())[:10]"
   ]
  },
  {
   "cell_type": "code",
   "execution_count": 615,
   "metadata": {},
   "outputs": [],
   "source": [
    "y_sims = mle.stan_variable(var='y_rep')"
   ]
  },
  {
   "cell_type": "code",
   "execution_count": 616,
   "metadata": {},
   "outputs": [],
   "source": [
    "def check(simulated_data,y,agg_func,function_name):\n",
    "    agg_data = agg_func(simulated_data,axis=1)\n",
    "    ax = sns.displot(agg_data)\n",
    "    ax.fig.suptitle(function_name)\n",
    "    ax.axes[0][0].axvline(x = agg_func(y), color='red', linewidth=1,label='Original Data')\n",
    "    plt.legend()\n",
    "    plt.show()"
   ]
  },
  {
   "cell_type": "code",
   "execution_count": 617,
   "metadata": {
    "tags": []
   },
   "outputs": [
    {
     "data": {
      "image/png": "[encoded data removed]",
      "text/plain": [
       "<Figure size 360x360 with 1 Axes>"
      ]
     },
     "metadata": {},
     "output_type": "display_data"
    },
    {
     "data": {
      "image/png": "[encoded data removed]",
      "text/plain": [
       "<Figure size 360x360 with 1 Axes>"
      ]
     },
     "metadata": {},
     "output_type": "display_data"
    },
    {
     "data": {
      "image/png": "[encoded data removed]",
      "text/plain": [
       "<Figure size 360x360 with 1 Axes>"
      ]
     },
     "metadata": {},
     "output_type": "display_data"
    },
    {
     "data": {
      "image/png": "[encoded data removed]",
      "text/plain": [
       "<Figure size 360x360 with 1 Axes>"
      ]
     },
     "metadata": {},
     "output_type": "display_data"
    },
    {
     "data": {
      "image/png": "[encoded data removed]",
      "text/plain": [
       "<Figure size 360x360 with 1 Axes>"
      ]
     },
     "metadata": {},
     "output_type": "display_data"
    }
   ],
   "source": [
    "n = 3000\n",
    "y = shuffled_data['AirTemp'][:X_size] \n",
    "simulated_data = y_sims[:n]\n",
    "\n",
    "check(simulated_data,y,np.mean,'Mean')\n",
    "check(simulated_data,y,np.min,'Min')\n",
    "check(simulated_data,y,np.max,'Max')\n",
    "check(simulated_data,y,np.var,'Variance')\n",
    "check(simulated_data,y,np.median,'Median')"
   ]
  },
  {
   "cell_type": "code",
   "execution_count": null,
   "metadata": {},
   "outputs": [],
   "source": []
  }
 ],
 "metadata": {
  "kernelspec": {
   "display_name": "stan",
   "language": "python",
   "name": "stan"
  },
  "language_info": {
   "codemirror_mode": {
    "name": "ipython",
    "version": 3
   },
   "file_extension": ".py",
   "mimetype": "text/x-python",
   "name": "python",
   "nbconvert_exporter": "python",
   "pygments_lexer": "ipython3",
   "version": "3.9.7"
  }
 },
 "nbformat": 4,
 "nbformat_minor": 4
}
