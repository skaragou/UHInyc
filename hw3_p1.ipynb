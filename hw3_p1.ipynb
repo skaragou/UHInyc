{
 "cells": [
  {
   "cell_type": "code",
   "execution_count": 102,
   "metadata": {},
   "outputs": [],
   "source": [
    "import jax.numpy as jnp\n",
    "import time\n",
    "from jax import grad,vmap,jit,hessian"
   ]
  },
  {
   "cell_type": "code",
   "execution_count": 98,
   "metadata": {},
   "outputs": [],
   "source": [
    "def f(x):\n",
    "    return 1/2 * (jnp.dot(x,x) + jnp.dot(a,x) ** 2)\n",
    "def df(x):\n",
    "    return 1/2 * (2 * x + 2 * jnp.dot(jnp.dot(a,x),a))\n",
    "def df2(x):\n",
    "    return 1/2 * (2 * jnp.eye(x.shape[0]) + 2 * jnp.outer(a,a))"
   ]
  },
  {
   "cell_type": "code",
   "execution_count": 99,
   "metadata": {},
   "outputs": [
    {
     "data": {
      "text/plain": [
       "(DeviceArray(105., dtype=float32),\n",
       " DeviceArray([15., 30., 45.], dtype=float32),\n",
       " DeviceArray([[ 2.,  2.,  3.],\n",
       "              [ 2.,  5.,  6.],\n",
       "              [ 3.,  6., 10.]], dtype=float32))"
      ]
     },
     "execution_count": 99,
     "metadata": {},
     "output_type": "execute_result"
    }
   ],
   "source": [
    "x = jnp.array([1,2,3]).astype(float)\n",
    "a = jnp.array([1,2,3]).astype(float)\n",
    "f(x),df(x),df2(x)"
   ]
  },
  {
   "cell_type": "code",
   "execution_count": 119,
   "metadata": {},
   "outputs": [],
   "source": [
    "df_jax = jacobian(f) \n",
    "df2_jax = jacobian(df_jax) "
   ]
  },
  {
   "cell_type": "code",
   "execution_count": 123,
   "metadata": {},
   "outputs": [
    {
     "data": {
      "text/plain": [
       "DeviceArray([15., 30., 45.], dtype=float32)"
      ]
     },
     "execution_count": 123,
     "metadata": {},
     "output_type": "execute_result"
    }
   ],
   "source": [
    "df_jax(x)"
   ]
  },
  {
   "cell_type": "code",
   "execution_count": 122,
   "metadata": {},
   "outputs": [
    {
     "data": {
      "text/plain": [
       "DeviceArray([[ 2.,  2.,  3.],\n",
       "             [ 2.,  5.,  6.],\n",
       "             [ 3.,  6., 10.]], dtype=float32)"
      ]
     },
     "execution_count": 122,
     "metadata": {},
     "output_type": "execute_result"
    }
   ],
   "source": [
    "df2_jax(x)"
   ]
  },
  {
   "cell_type": "code",
   "execution_count": 130,
   "metadata": {},
   "outputs": [],
   "source": [
    "def run_test(func,x,n=100):\n",
    "    start = time.time()\n",
    "    func(x)\n",
    "    end = time.time()\n",
    "    print(func.__name__,', time:',end - start,', n:',n)"
   ]
  },
  {
   "cell_type": "code",
   "execution_count": 131,
   "metadata": {},
   "outputs": [
    {
     "name": "stdout",
     "output_type": "stream",
     "text": [
      "df , time: 0.0006592273712158203 , n: 100\n",
      "jacfun , time: 0.007133960723876953 , n: 100\n",
      "df2 , time: 0.0010800361633300781 , n: 100\n",
      "jacfun , time: 0.010263919830322266 , n: 100\n"
     ]
    }
   ],
   "source": [
    "run_test(df,x)\n",
    "run_test(df_jax,x)\n",
    "run_test(df2,x)\n",
    "run_test(df_jax,x)"
   ]
  },
  {
   "cell_type": "code",
   "execution_count": 132,
   "metadata": {},
   "outputs": [
    {
     "name": "stdout",
     "output_type": "stream",
     "text": [
      "df , time: 0.0007381439208984375 , n: 1000\n",
      "jacfun , time: 0.010536909103393555 , n: 1000\n",
      "df2 , time: 0.0012888908386230469 , n: 1000\n",
      "jacfun , time: 0.007525205612182617 , n: 1000\n"
     ]
    }
   ],
   "source": [
    "run_test(df,x,n=1000)\n",
    "run_test(df_jax,x,n=1000)\n",
    "run_test(df2,x,n=1000)\n",
    "run_test(df_jax,x,n=1000)"
   ]
  },
  {
   "cell_type": "code",
   "execution_count": null,
   "metadata": {},
   "outputs": [],
   "source": []
  }
 ],
 "metadata": {
  "kernelspec": {
   "display_name": "Python 3",
   "language": "python",
   "name": "python3"
  },
  "language_info": {
   "codemirror_mode": {
    "name": "ipython",
    "version": 3
   },
   "file_extension": ".py",
   "mimetype": "text/x-python",
   "name": "python",
   "nbconvert_exporter": "python",
   "pygments_lexer": "ipython3",
   "version": "3.8.3"
  }
 },
 "nbformat": 4,
 "nbformat_minor": 4
}
