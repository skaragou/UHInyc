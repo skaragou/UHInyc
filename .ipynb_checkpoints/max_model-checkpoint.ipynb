{
 "cells": [
  {
   "cell_type": "code",
   "execution_count": 242,
   "metadata": {},
   "outputs": [],
   "source": [
    "import cmdstanpy\n",
    "import pandas as pd\n",
    "import numpy as np\n",
    "from cmdstanpy import cmdstan_path, CmdStanModel\n",
    "import random\n",
    "\n",
    "MODEL_PATH = 'max_model.stan'"
   ]
  },
  {
   "cell_type": "code",
   "execution_count": 107,
   "metadata": {},
   "outputs": [],
   "source": [
    "class NpEncoder(json.JSONEncoder):\n",
    "    def default(self, obj):\n",
    "        if isinstance(obj, np.integer):\n",
    "            return int(obj)\n",
    "        if isinstance(obj, np.floating):\n",
    "            return float(obj)\n",
    "        if isinstance(obj, np.ndarray):\n",
    "            return obj.tolist()\n",
    "        return super(NpEncoder, self).default(obj)"
   ]
  },
  {
   "cell_type": "code",
   "execution_count": 215,
   "metadata": {},
   "outputs": [
    {
     "data": {
      "text/html": [
       "<div>\n",
       "<style scoped>\n",
       "    .dataframe tbody tr th:only-of-type {\n",
       "        vertical-align: middle;\n",
       "    }\n",
       "\n",
       "    .dataframe tbody tr th {\n",
       "        vertical-align: top;\n",
       "    }\n",
       "\n",
       "    .dataframe thead th {\n",
       "        text-align: right;\n",
       "    }\n",
       "</style>\n",
       "<table border=\"1\" class=\"dataframe\">\n",
       "  <thead>\n",
       "    <tr style=\"text-align: right;\">\n",
       "      <th></th>\n",
       "      <th>Sensor.ID</th>\n",
       "      <th>AirTemp</th>\n",
       "      <th>Day</th>\n",
       "      <th>Hour</th>\n",
       "      <th>Latitude</th>\n",
       "      <th>Longitude</th>\n",
       "      <th>Year</th>\n",
       "      <th>Install.Type</th>\n",
       "      <th>Borough</th>\n",
       "      <th>ntacode</th>\n",
       "    </tr>\n",
       "  </thead>\n",
       "  <tbody>\n",
       "    <tr>\n",
       "      <th>0</th>\n",
       "      <td>Bk-BR_01</td>\n",
       "      <td>71.189000</td>\n",
       "      <td>06/15/2018</td>\n",
       "      <td>1</td>\n",
       "      <td>40.666205</td>\n",
       "      <td>-73.91691</td>\n",
       "      <td>2018</td>\n",
       "      <td>Street Tree</td>\n",
       "      <td>Brooklyn</td>\n",
       "      <td>BK81</td>\n",
       "    </tr>\n",
       "    <tr>\n",
       "      <th>1</th>\n",
       "      <td>Bk-BR_01</td>\n",
       "      <td>70.243333</td>\n",
       "      <td>06/15/2018</td>\n",
       "      <td>2</td>\n",
       "      <td>40.666205</td>\n",
       "      <td>-73.91691</td>\n",
       "      <td>2018</td>\n",
       "      <td>Street Tree</td>\n",
       "      <td>Brooklyn</td>\n",
       "      <td>BK81</td>\n",
       "    </tr>\n",
       "    <tr>\n",
       "      <th>2</th>\n",
       "      <td>Bk-BR_01</td>\n",
       "      <td>69.392667</td>\n",
       "      <td>06/15/2018</td>\n",
       "      <td>3</td>\n",
       "      <td>40.666205</td>\n",
       "      <td>-73.91691</td>\n",
       "      <td>2018</td>\n",
       "      <td>Street Tree</td>\n",
       "      <td>Brooklyn</td>\n",
       "      <td>BK81</td>\n",
       "    </tr>\n",
       "    <tr>\n",
       "      <th>3</th>\n",
       "      <td>Bk-BR_01</td>\n",
       "      <td>68.263167</td>\n",
       "      <td>06/15/2018</td>\n",
       "      <td>4</td>\n",
       "      <td>40.666205</td>\n",
       "      <td>-73.91691</td>\n",
       "      <td>2018</td>\n",
       "      <td>Street Tree</td>\n",
       "      <td>Brooklyn</td>\n",
       "      <td>BK81</td>\n",
       "    </tr>\n",
       "    <tr>\n",
       "      <th>4</th>\n",
       "      <td>Bk-BR_01</td>\n",
       "      <td>67.114000</td>\n",
       "      <td>06/15/2018</td>\n",
       "      <td>5</td>\n",
       "      <td>40.666205</td>\n",
       "      <td>-73.91691</td>\n",
       "      <td>2018</td>\n",
       "      <td>Street Tree</td>\n",
       "      <td>Brooklyn</td>\n",
       "      <td>BK81</td>\n",
       "    </tr>\n",
       "  </tbody>\n",
       "</table>\n",
       "</div>"
      ],
      "text/plain": [
       "  Sensor.ID    AirTemp         Day  Hour   Latitude  Longitude  Year  \\\n",
       "0  Bk-BR_01  71.189000  06/15/2018     1  40.666205  -73.91691  2018   \n",
       "1  Bk-BR_01  70.243333  06/15/2018     2  40.666205  -73.91691  2018   \n",
       "2  Bk-BR_01  69.392667  06/15/2018     3  40.666205  -73.91691  2018   \n",
       "3  Bk-BR_01  68.263167  06/15/2018     4  40.666205  -73.91691  2018   \n",
       "4  Bk-BR_01  67.114000  06/15/2018     5  40.666205  -73.91691  2018   \n",
       "\n",
       "  Install.Type   Borough ntacode  \n",
       "0  Street Tree  Brooklyn    BK81  \n",
       "1  Street Tree  Brooklyn    BK81  \n",
       "2  Street Tree  Brooklyn    BK81  \n",
       "3  Street Tree  Brooklyn    BK81  \n",
       "4  Street Tree  Brooklyn    BK81  "
      ]
     },
     "execution_count": 215,
     "metadata": {},
     "output_type": "execute_result"
    }
   ],
   "source": [
    "temps = pd.read_csv('data/Hyperlocal_Temperature_Monitoring.csv')\n",
    "temps.head()"
   ]
  },
  {
   "cell_type": "code",
   "execution_count": 140,
   "metadata": {},
   "outputs": [],
   "source": [
    "covariates = pd.read_csv('data/temp3.csv').round(8)"
   ]
  },
  {
   "cell_type": "code",
   "execution_count": 141,
   "metadata": {},
   "outputs": [],
   "source": [
    "covariates2 = pd.read_csv('data/temp_1.csv').round(8)\n",
    "covariates = covariates.merge(covariates2)"
   ]
  },
  {
   "cell_type": "code",
   "execution_count": 195,
   "metadata": {},
   "outputs": [],
   "source": [
    "covariates['mean_fa_ratio'] = covariates['mean_fa_ratio'].fillna(0)"
   ]
  },
  {
   "cell_type": "code",
   "execution_count": 216,
   "metadata": {},
   "outputs": [],
   "source": [
    "temps = temps.drop(index=np.where(temps['AirTemp'].isna())[0]).reset_index(0)"
   ]
  },
  {
   "cell_type": "code",
   "execution_count": 221,
   "metadata": {},
   "outputs": [],
   "source": [
    "temps = temps.groupby(['Latitude','Longitude','Day','Year']).agg({'AirTemp':np.max}).reset_index(0).reset_index(0).reset_index(0).reset_index(0)"
   ]
  },
  {
   "cell_type": "code",
   "execution_count": 254,
   "metadata": {},
   "outputs": [],
   "source": [
    "test = temps.merge(covariates, how='outer', on=['Latitude','Longitude'])"
   ]
  },
  {
   "cell_type": "code",
   "execution_count": 255,
   "metadata": {},
   "outputs": [],
   "source": [
    "j= test.to_json(orient='columns')"
   ]
  },
  {
   "cell_type": "code",
   "execution_count": 256,
   "metadata": {},
   "outputs": [],
   "source": [
    "import json"
   ]
  },
  {
   "cell_type": "code",
   "execution_count": 258,
   "metadata": {},
   "outputs": [],
   "source": [
    "idx = list(range(test.shape[0]))\n",
    "val = set(random.sample(idx,int(test.shape[0] * .2)))\n",
    "train = set(idx) - val"
   ]
  },
  {
   "cell_type": "code",
   "execution_count": 322,
   "metadata": {},
   "outputs": [
    {
     "data": {
      "text/html": [
       "<div>\n",
       "<style scoped>\n",
       "    .dataframe tbody tr th:only-of-type {\n",
       "        vertical-align: middle;\n",
       "    }\n",
       "\n",
       "    .dataframe tbody tr th {\n",
       "        vertical-align: top;\n",
       "    }\n",
       "\n",
       "    .dataframe thead th {\n",
       "        text-align: right;\n",
       "    }\n",
       "</style>\n",
       "<table border=\"1\" class=\"dataframe\">\n",
       "  <thead>\n",
       "    <tr style=\"text-align: right;\">\n",
       "      <th></th>\n",
       "      <th>Year</th>\n",
       "      <th>Day</th>\n",
       "      <th>Longitude</th>\n",
       "      <th>Latitude</th>\n",
       "      <th>AirTemp</th>\n",
       "      <th>num_build500</th>\n",
       "      <th>mean_fa_ratio</th>\n",
       "      <th>min_distance_park</th>\n",
       "      <th>num_trees_50m</th>\n",
       "    </tr>\n",
       "  </thead>\n",
       "  <tbody>\n",
       "    <tr>\n",
       "      <th>0</th>\n",
       "      <td>2018</td>\n",
       "      <td>06/15/2018</td>\n",
       "      <td>-73.951234</td>\n",
       "      <td>40.646738</td>\n",
       "      <td>76.361000</td>\n",
       "      <td>31</td>\n",
       "      <td>1.179760</td>\n",
       "      <td>5131.292616</td>\n",
       "      <td>1</td>\n",
       "    </tr>\n",
       "    <tr>\n",
       "      <th>1</th>\n",
       "      <td>2019</td>\n",
       "      <td>06/15/2019</td>\n",
       "      <td>-73.951234</td>\n",
       "      <td>40.646738</td>\n",
       "      <td>84.469833</td>\n",
       "      <td>31</td>\n",
       "      <td>1.179760</td>\n",
       "      <td>5131.292616</td>\n",
       "      <td>1</td>\n",
       "    </tr>\n",
       "    <tr>\n",
       "      <th>2</th>\n",
       "      <td>2018</td>\n",
       "      <td>06/16/2018</td>\n",
       "      <td>-73.951234</td>\n",
       "      <td>40.646738</td>\n",
       "      <td>86.022167</td>\n",
       "      <td>31</td>\n",
       "      <td>1.179760</td>\n",
       "      <td>5131.292616</td>\n",
       "      <td>1</td>\n",
       "    </tr>\n",
       "    <tr>\n",
       "      <th>3</th>\n",
       "      <td>2019</td>\n",
       "      <td>06/16/2019</td>\n",
       "      <td>-73.951234</td>\n",
       "      <td>40.646738</td>\n",
       "      <td>84.527667</td>\n",
       "      <td>31</td>\n",
       "      <td>1.179760</td>\n",
       "      <td>5131.292616</td>\n",
       "      <td>1</td>\n",
       "    </tr>\n",
       "    <tr>\n",
       "      <th>6</th>\n",
       "      <td>2018</td>\n",
       "      <td>06/18/2018</td>\n",
       "      <td>-73.951234</td>\n",
       "      <td>40.646738</td>\n",
       "      <td>90.758167</td>\n",
       "      <td>31</td>\n",
       "      <td>1.179760</td>\n",
       "      <td>5131.292616</td>\n",
       "      <td>1</td>\n",
       "    </tr>\n",
       "    <tr>\n",
       "      <th>...</th>\n",
       "      <td>...</td>\n",
       "      <td>...</td>\n",
       "      <td>...</td>\n",
       "      <td>...</td>\n",
       "      <td>...</td>\n",
       "      <td>...</td>\n",
       "      <td>...</td>\n",
       "      <td>...</td>\n",
       "      <td>...</td>\n",
       "    </tr>\n",
       "    <tr>\n",
       "      <th>87024</th>\n",
       "      <td>2018</td>\n",
       "      <td>10/11/2018</td>\n",
       "      <td>-73.849168</td>\n",
       "      <td>40.884616</td>\n",
       "      <td>78.650500</td>\n",
       "      <td>10</td>\n",
       "      <td>0.730596</td>\n",
       "      <td>5737.478214</td>\n",
       "      <td>0</td>\n",
       "    </tr>\n",
       "    <tr>\n",
       "      <th>87025</th>\n",
       "      <td>2018</td>\n",
       "      <td>10/12/2018</td>\n",
       "      <td>-73.849168</td>\n",
       "      <td>40.884616</td>\n",
       "      <td>69.606833</td>\n",
       "      <td>10</td>\n",
       "      <td>0.730596</td>\n",
       "      <td>5737.478214</td>\n",
       "      <td>0</td>\n",
       "    </tr>\n",
       "    <tr>\n",
       "      <th>87026</th>\n",
       "      <td>2018</td>\n",
       "      <td>10/13/2018</td>\n",
       "      <td>-73.849168</td>\n",
       "      <td>40.884616</td>\n",
       "      <td>59.249667</td>\n",
       "      <td>10</td>\n",
       "      <td>0.730596</td>\n",
       "      <td>5737.478214</td>\n",
       "      <td>0</td>\n",
       "    </tr>\n",
       "    <tr>\n",
       "      <th>87027</th>\n",
       "      <td>2018</td>\n",
       "      <td>10/14/2018</td>\n",
       "      <td>-73.849168</td>\n",
       "      <td>40.884616</td>\n",
       "      <td>63.817833</td>\n",
       "      <td>10</td>\n",
       "      <td>0.730596</td>\n",
       "      <td>5737.478214</td>\n",
       "      <td>0</td>\n",
       "    </tr>\n",
       "    <tr>\n",
       "      <th>87028</th>\n",
       "      <td>2018</td>\n",
       "      <td>10/15/2018</td>\n",
       "      <td>-73.849168</td>\n",
       "      <td>40.884616</td>\n",
       "      <td>67.158000</td>\n",
       "      <td>10</td>\n",
       "      <td>0.730596</td>\n",
       "      <td>5737.478214</td>\n",
       "      <td>0</td>\n",
       "    </tr>\n",
       "  </tbody>\n",
       "</table>\n",
       "<p>69624 rows × 9 columns</p>\n",
       "</div>"
      ],
      "text/plain": [
       "       Year         Day  Longitude   Latitude    AirTemp  num_build500  \\\n",
       "0      2018  06/15/2018 -73.951234  40.646738  76.361000            31   \n",
       "1      2019  06/15/2019 -73.951234  40.646738  84.469833            31   \n",
       "2      2018  06/16/2018 -73.951234  40.646738  86.022167            31   \n",
       "3      2019  06/16/2019 -73.951234  40.646738  84.527667            31   \n",
       "6      2018  06/18/2018 -73.951234  40.646738  90.758167            31   \n",
       "...     ...         ...        ...        ...        ...           ...   \n",
       "87024  2018  10/11/2018 -73.849168  40.884616  78.650500            10   \n",
       "87025  2018  10/12/2018 -73.849168  40.884616  69.606833            10   \n",
       "87026  2018  10/13/2018 -73.849168  40.884616  59.249667            10   \n",
       "87027  2018  10/14/2018 -73.849168  40.884616  63.817833            10   \n",
       "87028  2018  10/15/2018 -73.849168  40.884616  67.158000            10   \n",
       "\n",
       "       mean_fa_ratio  min_distance_park  num_trees_50m  \n",
       "0           1.179760        5131.292616              1  \n",
       "1           1.179760        5131.292616              1  \n",
       "2           1.179760        5131.292616              1  \n",
       "3           1.179760        5131.292616              1  \n",
       "6           1.179760        5131.292616              1  \n",
       "...              ...                ...            ...  \n",
       "87024       0.730596        5737.478214              0  \n",
       "87025       0.730596        5737.478214              0  \n",
       "87026       0.730596        5737.478214              0  \n",
       "87027       0.730596        5737.478214              0  \n",
       "87028       0.730596        5737.478214              0  \n",
       "\n",
       "[69624 rows x 9 columns]"
      ]
     },
     "execution_count": 322,
     "metadata": {},
     "output_type": "execute_result"
    }
   ],
   "source": [
    "test.iloc[list(train),:]"
   ]
  },
  {
   "cell_type": "code",
   "execution_count": 356,
   "metadata": {},
   "outputs": [],
   "source": [
    "d = {'N': len(test), 'N_test': len(val)}\n",
    "\n",
    "for col in test.columns:\n",
    "    if col not in ['Day','Year','Latitude','Longitude','AirTemp']:\n",
    "        d[col] = test[col].values\n",
    "\n",
    "d['y'] = test['AirTemp'].values"
   ]
  },
  {
   "cell_type": "code",
   "execution_count": 357,
   "metadata": {},
   "outputs": [
    {
     "data": {
      "text/plain": [
       "dict_keys(['N', 'N_test', 'num_build500', 'mean_fa_ratio', 'min_distance_park', 'num_trees_50m', 'y', 'num_build500_val', 'mean_fa_ratio_val', 'min_distance_park_val', 'num_trees_50m_val', 'y_val'])"
      ]
     },
     "execution_count": 357,
     "metadata": {},
     "output_type": "execute_result"
    }
   ],
   "source": [
    "d.keys()"
   ]
  },
  {
   "cell_type": "code",
   "execution_count": 358,
   "metadata": {},
   "outputs": [],
   "source": [
    "r = json.dumps(d,cls=NpEncoder)"
   ]
  },
  {
   "cell_type": "code",
   "execution_count": 359,
   "metadata": {},
   "outputs": [],
   "source": [
    "with open('data/data.json', 'w') as f:\n",
    "    json.dump(json.loads(r), f)"
   ]
  },
  {
   "cell_type": "code",
   "execution_count": 360,
   "metadata": {},
   "outputs": [],
   "source": [
    "DATA = 'data/data.json'"
   ]
  },
  {
   "cell_type": "code",
   "execution_count": 352,
   "metadata": {},
   "outputs": [
    {
     "name": "stderr",
     "output_type": "stream",
     "text": [
      "INFO:cmdstanpy:compiling stan program, exe file: /Users/sotiriskaragounis/git/UHInyc/max_model\n",
      "INFO:cmdstanpy:compiler options: stanc_options={}, cpp_options={}\n",
      "INFO:cmdstanpy:compiled model file: /Users/sotiriskaragounis/git/UHInyc/max_model\n"
     ]
    }
   ],
   "source": [
    "model = CmdStanModel(stan_file=MODEL_PATH)"
   ]
  },
  {
   "cell_type": "code",
   "execution_count": 361,
   "metadata": {},
   "outputs": [
    {
     "name": "stderr",
     "output_type": "stream",
     "text": [
      "INFO:cmdstanpy:start chain 1\n",
      "INFO:cmdstanpy:finish chain 1\n",
      "ERROR:cmdstanpy:Chain 1 processing error, non-zero return code 1\n",
      " error message:\n",
      "\tException: mismatch in dimension declared and found in context; processing stage=data initialization; variable name=num_build500; position=0; dims declared=(87029); dims found=(69624) (in '/Users/sotiriskaragounis/git/UHInyc/max_model.stan', line 20, column 2 to column 25)\n",
      "\n"
     ]
    },
    {
     "ename": "RuntimeError",
     "evalue": "Error during variational inference:\nchain_id 1:\nException: mismatch in dimension declared and found in context; processing stage=data initialization; variable name=num_build500; position=0; dims declared=(87029); dims found=(69624) (in '/Users/sotiriskaragounis/git/UHInyc/max_model.stan', line 20, column 2 to column 25)\n\nCommand and output files:\nRunSet: chains=1\n cmd:\n\t['/Users/sotiriskaragounis/git/UHInyc/max_model', 'random', 'seed=34381', 'data', 'file=/var/folders/95/hjbq_fhx1x94_j9lsth52q0m0000gn/T/tmp8g2ikmuq/1rs46c_h.json', 'output', 'file=/var/folders/95/hjbq_fhx1x94_j9lsth52q0m0000gn/T/tmp8g2ikmuq/max_model-202111122021-1-xr5jwthd.csv', 'method=variational', 'adapt', 'engaged=1']\n retcodes=[1]\n csv_files:\n\t/var/folders/95/hjbq_fhx1x94_j9lsth52q0m0000gn/T/tmp8g2ikmuq/max_model-202111122021-1-xr5jwthd.csv\n console_msgs:\n\t/var/folders/95/hjbq_fhx1x94_j9lsth52q0m0000gn/T/tmp8g2ikmuq/max_model-202111122021-1-xr5jwthd-stdout.txt\n error_msgs:\n\t/var/folders/95/hjbq_fhx1x94_j9lsth52q0m0000gn/T/tmp8g2ikmuq/max_model-202111122021-1-xr5jwthd-stderr.txt",
     "output_type": "error",
     "traceback": [
      "\u001b[0;31m---------------------------------------------------------------------------\u001b[0m",
      "\u001b[0;31mRuntimeError\u001b[0m                              Traceback (most recent call last)",
      "\u001b[0;32m/var/folders/95/hjbq_fhx1x94_j9lsth52q0m0000gn/T/ipykernel_81017/1263546370.py\u001b[0m in \u001b[0;36m<module>\u001b[0;34m\u001b[0m\n\u001b[0;32m----> 1\u001b[0;31m \u001b[0mbern_vb\u001b[0m \u001b[0;34m=\u001b[0m \u001b[0mmodel\u001b[0m\u001b[0;34m.\u001b[0m\u001b[0mvariational\u001b[0m\u001b[0;34m(\u001b[0m\u001b[0mdata\u001b[0m\u001b[0;34m=\u001b[0m\u001b[0md\u001b[0m\u001b[0;34m,\u001b[0m\u001b[0mrequire_converged\u001b[0m\u001b[0;34m=\u001b[0m\u001b[0;32mFalse\u001b[0m\u001b[0;34m)\u001b[0m\u001b[0;34m\u001b[0m\u001b[0;34m\u001b[0m\u001b[0m\n\u001b[0m",
      "\u001b[0;32m~/opt/anaconda3/envs/cmdstan/lib/python3.9/site-packages/cmdstanpy/model.py\u001b[0m in \u001b[0;36mvariational\u001b[0;34m(self, data, seed, inits, output_dir, sig_figs, save_diagnostics, save_profile, algorithm, iter, grad_samples, elbo_samples, eta, adapt_engaged, adapt_iter, tol_rel_obj, eval_elbo, output_samples, require_converged, refresh)\u001b[0m\n\u001b[1;32m   1184\u001b[0m                 \u001b[0mmsg\u001b[0m\u001b[0;34m,\u001b[0m \u001b[0mrunset\u001b[0m\u001b[0;34m.\u001b[0m\u001b[0m__repr__\u001b[0m\u001b[0;34m(\u001b[0m\u001b[0;34m)\u001b[0m\u001b[0;34m\u001b[0m\u001b[0;34m\u001b[0m\u001b[0m\n\u001b[1;32m   1185\u001b[0m             )\n\u001b[0;32m-> 1186\u001b[0;31m             \u001b[0;32mraise\u001b[0m \u001b[0mRuntimeError\u001b[0m\u001b[0;34m(\u001b[0m\u001b[0mmsg\u001b[0m\u001b[0;34m)\u001b[0m\u001b[0;34m\u001b[0m\u001b[0;34m\u001b[0m\u001b[0m\n\u001b[0m\u001b[1;32m   1187\u001b[0m         \u001b[0;31m# pylint: disable=invalid-name\u001b[0m\u001b[0;34m\u001b[0m\u001b[0;34m\u001b[0m\u001b[0m\n\u001b[1;32m   1188\u001b[0m         \u001b[0mvb\u001b[0m \u001b[0;34m=\u001b[0m \u001b[0mCmdStanVB\u001b[0m\u001b[0;34m(\u001b[0m\u001b[0mrunset\u001b[0m\u001b[0;34m)\u001b[0m\u001b[0;34m\u001b[0m\u001b[0;34m\u001b[0m\u001b[0m\n",
      "\u001b[0;31mRuntimeError\u001b[0m: Error during variational inference:\nchain_id 1:\nException: mismatch in dimension declared and found in context; processing stage=data initialization; variable name=num_build500; position=0; dims declared=(87029); dims found=(69624) (in '/Users/sotiriskaragounis/git/UHInyc/max_model.stan', line 20, column 2 to column 25)\n\nCommand and output files:\nRunSet: chains=1\n cmd:\n\t['/Users/sotiriskaragounis/git/UHInyc/max_model', 'random', 'seed=34381', 'data', 'file=/var/folders/95/hjbq_fhx1x94_j9lsth52q0m0000gn/T/tmp8g2ikmuq/1rs46c_h.json', 'output', 'file=/var/folders/95/hjbq_fhx1x94_j9lsth52q0m0000gn/T/tmp8g2ikmuq/max_model-202111122021-1-xr5jwthd.csv', 'method=variational', 'adapt', 'engaged=1']\n retcodes=[1]\n csv_files:\n\t/var/folders/95/hjbq_fhx1x94_j9lsth52q0m0000gn/T/tmp8g2ikmuq/max_model-202111122021-1-xr5jwthd.csv\n console_msgs:\n\t/var/folders/95/hjbq_fhx1x94_j9lsth52q0m0000gn/T/tmp8g2ikmuq/max_model-202111122021-1-xr5jwthd-stdout.txt\n error_msgs:\n\t/var/folders/95/hjbq_fhx1x94_j9lsth52q0m0000gn/T/tmp8g2ikmuq/max_model-202111122021-1-xr5jwthd-stderr.txt"
     ]
    }
   ],
   "source": [
    "bern_vb = model.variational(data=d,require_converged=False)"
   ]
  },
  {
   "cell_type": "code",
   "execution_count": 327,
   "metadata": {},
   "outputs": [
    {
     "data": {
      "text/plain": [
       "OrderedDict([('lp__', 0.0),\n",
       "             ('log_p__', 0.0),\n",
       "             ('log_g__', 0.0),\n",
       "             ('a', -85.3159),\n",
       "             ('b', -86.2057),\n",
       "             ('c', -85.6529),\n",
       "             ('d', -87.2599),\n",
       "             ('bias', -85.0807),\n",
       "             ('sigma', 1.31577e+58)])"
      ]
     },
     "execution_count": 327,
     "metadata": {},
     "output_type": "execute_result"
    }
   ],
   "source": [
    "bern_vb.variational_params_dict"
   ]
  },
  {
   "cell_type": "code",
   "execution_count": 323,
   "metadata": {},
   "outputs": [
    {
     "name": "stderr",
     "output_type": "stream",
     "text": [
      "INFO:cmdstanpy:start chain 1\n",
      "INFO:cmdstanpy:finish chain 1\n",
      "ERROR:cmdstanpy:Chain 1 processing error, non-zero return code 1\n"
     ]
    },
    {
     "ename": "RuntimeError",
     "evalue": "Error during optimization:\nCommand and output files:\nRunSet: chains=1\n cmd:\n\t['/Users/sotiriskaragounis/git/UHInyc/max_model', 'random', 'seed=15190', 'data', 'file=data/data.json', 'output', 'file=/var/folders/95/hjbq_fhx1x94_j9lsth52q0m0000gn/T/tmp8g2ikmuq/max_model-202111121934-1-mtnwlkm_.csv', 'method=optimize']\n retcodes=[1]\n csv_files:\n\t/var/folders/95/hjbq_fhx1x94_j9lsth52q0m0000gn/T/tmp8g2ikmuq/max_model-202111121934-1-mtnwlkm_.csv\n console_msgs:\n\t/var/folders/95/hjbq_fhx1x94_j9lsth52q0m0000gn/T/tmp8g2ikmuq/max_model-202111121934-1-mtnwlkm_-stdout.txt",
     "output_type": "error",
     "traceback": [
      "\u001b[0;31m---------------------------------------------------------------------------\u001b[0m",
      "\u001b[0;31mRuntimeError\u001b[0m                              Traceback (most recent call last)",
      "\u001b[0;32m/var/folders/95/hjbq_fhx1x94_j9lsth52q0m0000gn/T/ipykernel_81017/4240893804.py\u001b[0m in \u001b[0;36m<module>\u001b[0;34m\u001b[0m\n\u001b[0;32m----> 1\u001b[0;31m \u001b[0mmle\u001b[0m \u001b[0;34m=\u001b[0m \u001b[0mmodel\u001b[0m\u001b[0;34m.\u001b[0m\u001b[0moptimize\u001b[0m\u001b[0;34m(\u001b[0m\u001b[0mdata\u001b[0m\u001b[0;34m=\u001b[0m\u001b[0mDATA\u001b[0m\u001b[0;34m)\u001b[0m\u001b[0;34m\u001b[0m\u001b[0;34m\u001b[0m\u001b[0m\n\u001b[0m",
      "\u001b[0;32m~/opt/anaconda3/envs/cmdstan/lib/python3.9/site-packages/cmdstanpy/model.py\u001b[0m in \u001b[0;36moptimize\u001b[0;34m(self, data, seed, inits, output_dir, sig_figs, save_profile, algorithm, init_alpha, tol_obj, tol_rel_obj, tol_grad, tol_rel_grad, tol_param, history_size, iter, refresh)\u001b[0m\n\u001b[1;32m    523\u001b[0m                 \u001b[0mmsg\u001b[0m\u001b[0;34m,\u001b[0m \u001b[0mrunset\u001b[0m\u001b[0;34m.\u001b[0m\u001b[0m__repr__\u001b[0m\u001b[0;34m(\u001b[0m\u001b[0;34m)\u001b[0m\u001b[0;34m\u001b[0m\u001b[0;34m\u001b[0m\u001b[0m\n\u001b[1;32m    524\u001b[0m             )\n\u001b[0;32m--> 525\u001b[0;31m             \u001b[0;32mraise\u001b[0m \u001b[0mRuntimeError\u001b[0m\u001b[0;34m(\u001b[0m\u001b[0mmsg\u001b[0m\u001b[0;34m)\u001b[0m\u001b[0;34m\u001b[0m\u001b[0;34m\u001b[0m\u001b[0m\n\u001b[0m\u001b[1;32m    526\u001b[0m         \u001b[0mmle\u001b[0m \u001b[0;34m=\u001b[0m \u001b[0mCmdStanMLE\u001b[0m\u001b[0;34m(\u001b[0m\u001b[0mrunset\u001b[0m\u001b[0;34m)\u001b[0m\u001b[0;34m\u001b[0m\u001b[0;34m\u001b[0m\u001b[0m\n\u001b[1;32m    527\u001b[0m         \u001b[0;32mreturn\u001b[0m \u001b[0mmle\u001b[0m\u001b[0;34m\u001b[0m\u001b[0;34m\u001b[0m\u001b[0m\n",
      "\u001b[0;31mRuntimeError\u001b[0m: Error during optimization:\nCommand and output files:\nRunSet: chains=1\n cmd:\n\t['/Users/sotiriskaragounis/git/UHInyc/max_model', 'random', 'seed=15190', 'data', 'file=data/data.json', 'output', 'file=/var/folders/95/hjbq_fhx1x94_j9lsth52q0m0000gn/T/tmp8g2ikmuq/max_model-202111121934-1-mtnwlkm_.csv', 'method=optimize']\n retcodes=[1]\n csv_files:\n\t/var/folders/95/hjbq_fhx1x94_j9lsth52q0m0000gn/T/tmp8g2ikmuq/max_model-202111121934-1-mtnwlkm_.csv\n console_msgs:\n\t/var/folders/95/hjbq_fhx1x94_j9lsth52q0m0000gn/T/tmp8g2ikmuq/max_model-202111121934-1-mtnwlkm_-stdout.txt"
     ]
    }
   ],
   "source": [
    "mle = model.optimize(data=DATA)"
   ]
  },
  {
   "cell_type": "code",
   "execution_count": null,
   "metadata": {},
   "outputs": [],
   "source": []
  },
  {
   "cell_type": "code",
   "execution_count": null,
   "metadata": {},
   "outputs": [],
   "source": []
  }
 ],
 "metadata": {
  "kernelspec": {
   "display_name": "stan",
   "language": "python",
   "name": "stan"
  },
  "language_info": {
   "codemirror_mode": {
    "name": "ipython",
    "version": 3
   },
   "file_extension": ".py",
   "mimetype": "text/x-python",
   "name": "python",
   "nbconvert_exporter": "python",
   "pygments_lexer": "ipython3",
   "version": "3.9.7"
  }
 },
 "nbformat": 4,
 "nbformat_minor": 4
}
