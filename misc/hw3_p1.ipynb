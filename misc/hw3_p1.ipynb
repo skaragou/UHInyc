{
 "cells": [
  {
   "cell_type": "code",
   "execution_count": 5,
   "metadata": {},
   "outputs": [],
   "source": [
    "import jax.numpy as jnp\n",
    "import time\n",
    "from jax import jacobian"
   ]
  },
  {
   "cell_type": "markdown",
   "metadata": {},
   "source": [
    "### (b)"
   ]
  },
  {
   "cell_type": "code",
   "execution_count": 2,
   "metadata": {},
   "outputs": [],
   "source": [
    "def f(x):\n",
    "    return 1/2 * (jnp.dot(x,x) + jnp.dot(a,x) ** 2)\n",
    "def df(x):\n",
    "    return x + jnp.dot(jnp.dot(a,x),a)\n",
    "def df2(x):\n",
    "    return jnp.eye(x.shape[0]) + jnp.outer(a,a)"
   ]
  },
  {
   "cell_type": "code",
   "execution_count": 9,
   "metadata": {},
   "outputs": [],
   "source": [
    "df_jax = jacobian(f) \n",
    "df2_jax = jacobian(df_jax) "
   ]
  },
  {
   "cell_type": "markdown",
   "metadata": {},
   "source": [
    "### (c)"
   ]
  },
  {
   "cell_type": "code",
   "execution_count": 3,
   "metadata": {},
   "outputs": [
    {
     "name": "stderr",
     "output_type": "stream",
     "text": [
      "WARNING:absl:No GPU/TPU found, falling back to CPU. (Set TF_CPP_MIN_LOG_LEVEL=0 and rerun for more info.)\n"
     ]
    },
    {
     "data": {
      "text/plain": [
       "(DeviceArray(1705., dtype=float32),\n",
       " DeviceArray([56., 57., 58., 59., 60., 61., 62., 63., 64., 65.], dtype=float32),\n",
       " DeviceArray([[2., 1., 1., 1., 1., 1., 1., 1., 1., 1.],\n",
       "              [1., 2., 1., 1., 1., 1., 1., 1., 1., 1.],\n",
       "              [1., 1., 2., 1., 1., 1., 1., 1., 1., 1.],\n",
       "              [1., 1., 1., 2., 1., 1., 1., 1., 1., 1.],\n",
       "              [1., 1., 1., 1., 2., 1., 1., 1., 1., 1.],\n",
       "              [1., 1., 1., 1., 1., 2., 1., 1., 1., 1.],\n",
       "              [1., 1., 1., 1., 1., 1., 2., 1., 1., 1.],\n",
       "              [1., 1., 1., 1., 1., 1., 1., 2., 1., 1.],\n",
       "              [1., 1., 1., 1., 1., 1., 1., 1., 2., 1.],\n",
       "              [1., 1., 1., 1., 1., 1., 1., 1., 1., 2.]], dtype=float32))"
      ]
     },
     "execution_count": 3,
     "metadata": {},
     "output_type": "execute_result"
    }
   ],
   "source": [
    "x = jnp.array([1,2,3,4,5,6,7,8,9,10]).astype(float)\n",
    "a = jnp.array([1]* 10).astype(float)\n",
    "f(x),df(x),df2(x)"
   ]
  },
  {
   "cell_type": "code",
   "execution_count": 7,
   "metadata": {},
   "outputs": [
    {
     "data": {
      "text/plain": [
       "DeviceArray([56., 57., 58., 59., 60., 61., 62., 63., 64., 65.], dtype=float32)"
      ]
     },
     "execution_count": 7,
     "metadata": {},
     "output_type": "execute_result"
    }
   ],
   "source": [
    "df_jax(x)"
   ]
  },
  {
   "cell_type": "code",
   "execution_count": 8,
   "metadata": {},
   "outputs": [
    {
     "data": {
      "text/plain": [
       "DeviceArray([[2., 1., 1., 1., 1., 1., 1., 1., 1., 1.],\n",
       "             [1., 2., 1., 1., 1., 1., 1., 1., 1., 1.],\n",
       "             [1., 1., 2., 1., 1., 1., 1., 1., 1., 1.],\n",
       "             [1., 1., 1., 2., 1., 1., 1., 1., 1., 1.],\n",
       "             [1., 1., 1., 1., 2., 1., 1., 1., 1., 1.],\n",
       "             [1., 1., 1., 1., 1., 2., 1., 1., 1., 1.],\n",
       "             [1., 1., 1., 1., 1., 1., 2., 1., 1., 1.],\n",
       "             [1., 1., 1., 1., 1., 1., 1., 2., 1., 1.],\n",
       "             [1., 1., 1., 1., 1., 1., 1., 1., 2., 1.],\n",
       "             [1., 1., 1., 1., 1., 1., 1., 1., 1., 2.]], dtype=float32)"
      ]
     },
     "execution_count": 8,
     "metadata": {},
     "output_type": "execute_result"
    }
   ],
   "source": [
    "df2_jax(x)"
   ]
  },
  {
   "cell_type": "code",
   "execution_count": 19,
   "metadata": {},
   "outputs": [],
   "source": [
    "def run_test(func,x,n=100):\n",
    "    start = time.time()\n",
    "    for _ in range(n):\n",
    "        func(x)\n",
    "    end = time.time()\n",
    "    print(func.__name__,', time:',end - start,', n:',n)"
   ]
  },
  {
   "cell_type": "markdown",
   "metadata": {},
   "source": [
    "For n=100:"
   ]
  },
  {
   "cell_type": "code",
   "execution_count": 20,
   "metadata": {},
   "outputs": [
    {
     "name": "stdout",
     "output_type": "stream",
     "text": [
      "df , time: 0.006024837493896484 , n: 100\n",
      "jacfun , time: 0.593843936920166 , n: 100\n",
      "df2 , time: 0.03345608711242676 , n: 100\n",
      "jacfun , time: 1.7416160106658936 , n: 100\n"
     ]
    }
   ],
   "source": [
    "run_test(df,x)\n",
    "run_test(df_jax,x)\n",
    "run_test(df2,x)\n",
    "run_test(df2_jax,x)"
   ]
  },
  {
   "cell_type": "markdown",
   "metadata": {},
   "source": [
    "For n=1000:"
   ]
  },
  {
   "cell_type": "code",
   "execution_count": 21,
   "metadata": {},
   "outputs": [
    {
     "name": "stdout",
     "output_type": "stream",
     "text": [
      "df , time: 0.03178691864013672 , n: 1000\n",
      "jacfun , time: 5.52968692779541 , n: 1000\n",
      "df2 , time: 0.3766179084777832 , n: 1000\n",
      "jacfun , time: 13.732815027236938 , n: 1000\n"
     ]
    }
   ],
   "source": [
    "run_test(df,x,n=1000)\n",
    "run_test(df_jax,x,n=1000)\n",
    "run_test(df2,x,n=1000)\n",
    "run_test(df2_jax,x,n=1000)"
   ]
  },
  {
   "cell_type": "code",
   "execution_count": 23,
   "metadata": {},
   "outputs": [],
   "source": [
    "import numpy as np"
   ]
  },
  {
   "cell_type": "code",
   "execution_count": 78,
   "metadata": {},
   "outputs": [],
   "source": [
    "B = np.round(np.random.uniform(1,2,[n,n]))\n",
    "B = B / np.linalg.norm(B)\n",
    "C = np.ones([n,n])"
   ]
  },
  {
   "cell_type": "code",
   "execution_count": 108,
   "metadata": {},
   "outputs": [],
   "source": [
    "v = np.ones(n)"
   ]
  },
  {
   "cell_type": "code",
   "execution_count": 96,
   "metadata": {},
   "outputs": [],
   "source": [
    "n = 10\n",
    "C = np.ones([n,n])\n",
    "A = C + (n-2) * np.eye(n)\n",
    "B = C - np.eye(n)"
   ]
  },
  {
   "cell_type": "code",
   "execution_count": 112,
   "metadata": {},
   "outputs": [
    {
     "data": {
      "text/plain": [
       "9.0"
      ]
     },
     "execution_count": 112,
     "metadata": {},
     "output_type": "execute_result"
    }
   ],
   "source": [
    "np.dot(v,np.dot(B,v)) / np.dot(v,v)"
   ]
  },
  {
   "cell_type": "code",
   "execution_count": 105,
   "metadata": {},
   "outputs": [
    {
     "data": {
      "text/plain": [
       "(array([[-0.9486833 ,  0.31622777, -0.49692935,  0.07219191, -0.16384702,\n",
       "         -0.15849326, -0.05496722,  0.09047309, -0.05496722,  0.09047309],\n",
       "        [ 0.10540926,  0.31622777,  0.85833251, -0.00802132,  0.25806104,\n",
       "          0.23143563,  0.20311211, -0.04498958,  0.20311211, -0.04498958],\n",
       "        [ 0.10540926,  0.31622777, -0.0451754 , -0.40775077,  0.41633972,\n",
       "          0.71721799,  0.11046741,  0.09960502,  0.11046741,  0.09960502],\n",
       "        [ 0.10540926,  0.31622777, -0.0451754 , -0.48930074, -0.17527292,\n",
       "         -0.28650286,  0.15246932,  0.17764967,  0.15246932,  0.17764967],\n",
       "        [ 0.10540926,  0.31622777, -0.0451754 ,  0.26443633,  0.64015747,\n",
       "         -0.54165233,  0.0107265 ,  0.08002852,  0.0107265 ,  0.08002852],\n",
       "        [ 0.10540926,  0.31622777, -0.0451754 , -0.48930074,  0.09113148,\n",
       "          0.16547472, -0.46471415, -0.46472417, -0.46471415, -0.46472417],\n",
       "        [ 0.10540926,  0.31622777, -0.0451754 ,  0.26443633, -0.26664244,\n",
       "         -0.03186997,  0.73722819, -0.23030479, -0.23144072, -0.23030479],\n",
       "        [ 0.10540926,  0.31622777, -0.0451754 ,  0.26443633, -0.26664244,\n",
       "         -0.03186997, -0.23144072,  0.75287182, -0.23144072, -0.23030479],\n",
       "        [ 0.10540926,  0.31622777, -0.0451754 ,  0.26443633, -0.26664244,\n",
       "         -0.03186997, -0.23144072, -0.23030479,  0.73722819, -0.23030479],\n",
       "        [ 0.10540926,  0.31622777, -0.0451754 ,  0.26443633, -0.26664244,\n",
       "         -0.03186997, -0.23144072, -0.23030479, -0.23144072,  0.75287182]]),\n",
       " array([[-0.9486833 ,  0.31622777,  0.38729833, -0.07851359, -0.06793624,\n",
       "          0.12882819,  0.01122168, -0.00192122,  0.00641836,  0.01719267],\n",
       "        [ 0.10540926,  0.31622777,  0.81762982,  0.18319837,  0.1585179 ,\n",
       "         -0.3005991 ,  0.04862728,  0.00875224,  0.02781291, -0.04011622],\n",
       "        [ 0.10540926,  0.31622777, -0.15061602,  0.90290627,  0.21203104,\n",
       "         -0.37284715, -0.20755265,  0.02627905, -0.01126182, -0.06650618],\n",
       "        [ 0.10540926,  0.31622777, -0.15061602, -0.14394158, -0.40422455,\n",
       "          0.71511755, -0.62562831, -0.09243687, -0.02585353,  0.12489716],\n",
       "        [ 0.10540926,  0.31622777, -0.15061602, -0.14394158,  0.81285263,\n",
       "          0.14849538, -0.18329345, -0.02251333, -0.0067493 ,  0.02824714],\n",
       "        [ 0.10540926,  0.31622777, -0.15061602, -0.14394158, -0.14224816,\n",
       "          0.33643391,  0.71774518, -0.00377728,  0.13467359,  0.00668747],\n",
       "        [ 0.10540926,  0.31622777, -0.15061602, -0.14394158, -0.14224816,\n",
       "         -0.16385719,  0.05972007, -0.44717535,  0.5759412 , -0.77235483],\n",
       "        [ 0.10540926,  0.31622777, -0.15061602, -0.14394158, -0.14224816,\n",
       "         -0.16385719,  0.05972007,  0.56125415,  0.33340441,  0.49053596],\n",
       "        [ 0.10540926,  0.31622777, -0.15061602, -0.14394158, -0.14224816,\n",
       "         -0.16385719,  0.05972007,  0.47299943, -0.48281494, -0.13690655],\n",
       "        [ 0.10540926,  0.31622777, -0.15061602, -0.14394158, -0.14224816,\n",
       "         -0.16385719,  0.05972007, -0.50146081, -0.55157089,  0.34832339]]))"
      ]
     },
     "execution_count": 105,
     "metadata": {},
     "output_type": "execute_result"
    }
   ],
   "source": [
    "np.linalg.eig(A)[1],np.linalg.eig(B)[1]"
   ]
  },
  {
   "cell_type": "code",
   "execution_count": null,
   "metadata": {},
   "outputs": [],
   "source": []
  }
 ],
 "metadata": {
  "kernelspec": {
   "display_name": "Python 3",
   "language": "python",
   "name": "python3"
  },
  "language_info": {
   "codemirror_mode": {
    "name": "ipython",
    "version": 3
   },
   "file_extension": ".py",
   "mimetype": "text/x-python",
   "name": "python",
   "nbconvert_exporter": "python",
   "pygments_lexer": "ipython3",
   "version": "3.8.3"
  }
 },
 "nbformat": 4,
 "nbformat_minor": 4
}
